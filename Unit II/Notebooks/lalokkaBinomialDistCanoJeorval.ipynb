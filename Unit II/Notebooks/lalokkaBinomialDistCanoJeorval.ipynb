{
 "cells": [
  {
   "cell_type": "code",
   "execution_count": 1,
   "metadata": {},
   "outputs": [],
   "source": [
    "#importing libraries that I will use\n",
    "import matplotlib.pyplot as plt\n",
    "import pandas as pd\n",
    "import seaborn as sns\n",
    "from scipy.stats import norm\n",
    "#library made from the last activity \n",
    "import distributions\n",
    "import math"
   ]
  },
  {
   "cell_type": "markdown",
   "metadata": {},
   "source": [
    "If there is a jump eliminate the next three cells"
   ]
  },
  {
   "cell_type": "code",
   "execution_count": null,
   "metadata": {},
   "outputs": [],
   "source": [
    "#read csv from an url, if the link is broken jump til salar\n",
    "url = 'https://www.ncei.noaa.gov/orders/cdo/1924082.txt'\n",
    "data = pd.read_csv(url, sep = \"\\s+\", skiprows = [1],header = 0, na_values=-9999)"
   ]
  },
  {
   "cell_type": "code",
   "execution_count": null,
   "metadata": {},
   "outputs": [],
   "source": [
    "#making the dataframe easier to use\n",
    "data = data.reset_index()"
   ]
  },
  {
   "cell_type": "code",
   "execution_count": null,
   "metadata": {},
   "outputs": [],
   "source": [
    "#making the correct columns and eliminating the useless\n",
    "data['STATION_NAME'] = data['level_1']+' '+data['STATION']+' '+data['STATION_NAME']\n",
    "data['STATION'] = data['level_0']\n",
    "data = data.drop(['level_0','level_1','STATION'], axis = 1)\n",
    "data.head()\n",
    "data.to_csv(\"NOAlalokka.csv\", index = False)"
   ]
  },
  {
   "cell_type": "code",
   "execution_count": null,
   "metadata": {},
   "outputs": [],
   "source": [
    "data"
   ]
  },
  {
   "cell_type": "markdown",
   "metadata": {},
   "source": [
    "## Salto"
   ]
  },
  {
   "cell_type": "markdown",
   "metadata": {},
   "source": [
    "Eliminate hashtags"
   ]
  },
  {
   "cell_type": "code",
   "execution_count": 2,
   "metadata": {},
   "outputs": [],
   "source": [
    "data = pd.read_csv(\"NOAlalokka.csv\")"
   ]
  },
  {
   "cell_type": "code",
   "execution_count": 3,
   "metadata": {},
   "outputs": [
    {
     "data": {
      "text/html": [
       "<div>\n",
       "<style scoped>\n",
       "    .dataframe tbody tr th:only-of-type {\n",
       "        vertical-align: middle;\n",
       "    }\n",
       "\n",
       "    .dataframe tbody tr th {\n",
       "        vertical-align: top;\n",
       "    }\n",
       "\n",
       "    .dataframe thead th {\n",
       "        text-align: right;\n",
       "    }\n",
       "</style>\n",
       "<table border=\"1\" class=\"dataframe\">\n",
       "  <thead>\n",
       "    <tr style=\"text-align: right;\">\n",
       "      <th></th>\n",
       "      <th>STATION_NAME</th>\n",
       "      <th>DATE</th>\n",
       "      <th>PRCP</th>\n",
       "      <th>TMAX</th>\n",
       "      <th>TMIN</th>\n",
       "    </tr>\n",
       "  </thead>\n",
       "  <tbody>\n",
       "    <tr>\n",
       "      <th>0</th>\n",
       "      <td>SODANKYLA LOKKA FI</td>\n",
       "      <td>19590101</td>\n",
       "      <td>0.03</td>\n",
       "      <td>NaN</td>\n",
       "      <td>9.0</td>\n",
       "    </tr>\n",
       "    <tr>\n",
       "      <th>1</th>\n",
       "      <td>SODANKYLA LOKKA FI</td>\n",
       "      <td>19590102</td>\n",
       "      <td>0.00</td>\n",
       "      <td>NaN</td>\n",
       "      <td>6.0</td>\n",
       "    </tr>\n",
       "    <tr>\n",
       "      <th>2</th>\n",
       "      <td>SODANKYLA LOKKA FI</td>\n",
       "      <td>19590103</td>\n",
       "      <td>0.02</td>\n",
       "      <td>NaN</td>\n",
       "      <td>-9.0</td>\n",
       "    </tr>\n",
       "    <tr>\n",
       "      <th>3</th>\n",
       "      <td>SODANKYLA LOKKA FI</td>\n",
       "      <td>19590104</td>\n",
       "      <td>0.08</td>\n",
       "      <td>NaN</td>\n",
       "      <td>10.0</td>\n",
       "    </tr>\n",
       "    <tr>\n",
       "      <th>4</th>\n",
       "      <td>SODANKYLA LOKKA FI</td>\n",
       "      <td>19590105</td>\n",
       "      <td>0.09</td>\n",
       "      <td>NaN</td>\n",
       "      <td>13.0</td>\n",
       "    </tr>\n",
       "  </tbody>\n",
       "</table>\n",
       "</div>"
      ],
      "text/plain": [
       "         STATION_NAME      DATE  PRCP  TMAX  TMIN\n",
       "0  SODANKYLA LOKKA FI  19590101  0.03   NaN   9.0\n",
       "1  SODANKYLA LOKKA FI  19590102  0.00   NaN   6.0\n",
       "2  SODANKYLA LOKKA FI  19590103  0.02   NaN  -9.0\n",
       "3  SODANKYLA LOKKA FI  19590104  0.08   NaN  10.0\n",
       "4  SODANKYLA LOKKA FI  19590105  0.09   NaN  13.0"
      ]
     },
     "execution_count": 3,
     "metadata": {},
     "output_type": "execute_result"
    }
   ],
   "source": [
    "data.head()"
   ]
  },
  {
   "cell_type": "markdown",
   "metadata": {},
   "source": [
    "### This part does not belong to the \"salto\""
   ]
  },
  {
   "cell_type": "code",
   "execution_count": 4,
   "metadata": {},
   "outputs": [
    {
     "data": {
      "text/plain": [
       "2"
      ]
     },
     "execution_count": 4,
     "metadata": {},
     "output_type": "execute_result"
    }
   ],
   "source": [
    "#checking how many na values has the columns that will be used for analysis how many days rain by wee\n",
    "data.PRCP.isna().sum()"
   ]
  },
  {
   "cell_type": "code",
   "execution_count": 5,
   "metadata": {},
   "outputs": [
    {
     "name": "stdout",
     "output_type": "stream",
     "text": [
      "Columns:  21307\n",
      "Rows:  5\n"
     ]
    }
   ],
   "source": [
    "#There are only two na values, so if we take it as 0, there will be no problem\n",
    "#checking the dimension of the dataset\n",
    "data_shape = data.shape\n",
    "\n",
    "print(\"Columns: \",data_shape[0])\n",
    "print(\"Rows: \",data_shape[1])"
   ]
  },
  {
   "cell_type": "code",
   "execution_count": 6,
   "metadata": {},
   "outputs": [],
   "source": [
    "#checkin if rained,\n",
    "data['Rained'] = data.PRCP > 0"
   ]
  },
  {
   "cell_type": "code",
   "execution_count": 7,
   "metadata": {},
   "outputs": [
    {
     "data": {
      "text/html": [
       "<div>\n",
       "<style scoped>\n",
       "    .dataframe tbody tr th:only-of-type {\n",
       "        vertical-align: middle;\n",
       "    }\n",
       "\n",
       "    .dataframe tbody tr th {\n",
       "        vertical-align: top;\n",
       "    }\n",
       "\n",
       "    .dataframe thead th {\n",
       "        text-align: right;\n",
       "    }\n",
       "</style>\n",
       "<table border=\"1\" class=\"dataframe\">\n",
       "  <thead>\n",
       "    <tr style=\"text-align: right;\">\n",
       "      <th></th>\n",
       "      <th>STATION_NAME</th>\n",
       "      <th>DATE</th>\n",
       "      <th>PRCP</th>\n",
       "      <th>TMAX</th>\n",
       "      <th>TMIN</th>\n",
       "      <th>Rained</th>\n",
       "    </tr>\n",
       "  </thead>\n",
       "  <tbody>\n",
       "    <tr>\n",
       "      <th>0</th>\n",
       "      <td>SODANKYLA LOKKA FI</td>\n",
       "      <td>19590101</td>\n",
       "      <td>0.03</td>\n",
       "      <td>NaN</td>\n",
       "      <td>9.0</td>\n",
       "      <td>True</td>\n",
       "    </tr>\n",
       "    <tr>\n",
       "      <th>1</th>\n",
       "      <td>SODANKYLA LOKKA FI</td>\n",
       "      <td>19590102</td>\n",
       "      <td>0.00</td>\n",
       "      <td>NaN</td>\n",
       "      <td>6.0</td>\n",
       "      <td>False</td>\n",
       "    </tr>\n",
       "    <tr>\n",
       "      <th>2</th>\n",
       "      <td>SODANKYLA LOKKA FI</td>\n",
       "      <td>19590103</td>\n",
       "      <td>0.02</td>\n",
       "      <td>NaN</td>\n",
       "      <td>-9.0</td>\n",
       "      <td>True</td>\n",
       "    </tr>\n",
       "    <tr>\n",
       "      <th>3</th>\n",
       "      <td>SODANKYLA LOKKA FI</td>\n",
       "      <td>19590104</td>\n",
       "      <td>0.08</td>\n",
       "      <td>NaN</td>\n",
       "      <td>10.0</td>\n",
       "      <td>True</td>\n",
       "    </tr>\n",
       "    <tr>\n",
       "      <th>4</th>\n",
       "      <td>SODANKYLA LOKKA FI</td>\n",
       "      <td>19590105</td>\n",
       "      <td>0.09</td>\n",
       "      <td>NaN</td>\n",
       "      <td>13.0</td>\n",
       "      <td>True</td>\n",
       "    </tr>\n",
       "  </tbody>\n",
       "</table>\n",
       "</div>"
      ],
      "text/plain": [
       "         STATION_NAME      DATE  PRCP  TMAX  TMIN  Rained\n",
       "0  SODANKYLA LOKKA FI  19590101  0.03   NaN   9.0    True\n",
       "1  SODANKYLA LOKKA FI  19590102  0.00   NaN   6.0   False\n",
       "2  SODANKYLA LOKKA FI  19590103  0.02   NaN  -9.0    True\n",
       "3  SODANKYLA LOKKA FI  19590104  0.08   NaN  10.0    True\n",
       "4  SODANKYLA LOKKA FI  19590105  0.09   NaN  13.0    True"
      ]
     },
     "execution_count": 7,
     "metadata": {},
     "output_type": "execute_result"
    }
   ],
   "source": [
    "data.head()"
   ]
  },
  {
   "cell_type": "code",
   "execution_count": 8,
   "metadata": {},
   "outputs": [],
   "source": [
    "#making a datetime object into the index to be able to use its methods, the resample in this case\n",
    "data.index = pd.to_datetime(data.DATE, format = '%Y%m%d')"
   ]
  },
  {
   "cell_type": "code",
   "execution_count": 9,
   "metadata": {},
   "outputs": [],
   "source": [
    "#eliminating columns that is the index\n",
    "data.drop(\"DATE\", axis = 1, inplace = True)"
   ]
  },
  {
   "cell_type": "code",
   "execution_count": 10,
   "metadata": {},
   "outputs": [
    {
     "data": {
      "text/html": [
       "<div>\n",
       "<style scoped>\n",
       "    .dataframe tbody tr th:only-of-type {\n",
       "        vertical-align: middle;\n",
       "    }\n",
       "\n",
       "    .dataframe tbody tr th {\n",
       "        vertical-align: top;\n",
       "    }\n",
       "\n",
       "    .dataframe thead th {\n",
       "        text-align: right;\n",
       "    }\n",
       "</style>\n",
       "<table border=\"1\" class=\"dataframe\">\n",
       "  <thead>\n",
       "    <tr style=\"text-align: right;\">\n",
       "      <th></th>\n",
       "      <th>STATION_NAME</th>\n",
       "      <th>PRCP</th>\n",
       "      <th>TMAX</th>\n",
       "      <th>TMIN</th>\n",
       "      <th>Rained</th>\n",
       "    </tr>\n",
       "    <tr>\n",
       "      <th>DATE</th>\n",
       "      <th></th>\n",
       "      <th></th>\n",
       "      <th></th>\n",
       "      <th></th>\n",
       "      <th></th>\n",
       "    </tr>\n",
       "  </thead>\n",
       "  <tbody>\n",
       "    <tr>\n",
       "      <th>1959-01-01</th>\n",
       "      <td>SODANKYLA LOKKA FI</td>\n",
       "      <td>0.03</td>\n",
       "      <td>NaN</td>\n",
       "      <td>9.0</td>\n",
       "      <td>True</td>\n",
       "    </tr>\n",
       "    <tr>\n",
       "      <th>1959-01-02</th>\n",
       "      <td>SODANKYLA LOKKA FI</td>\n",
       "      <td>0.00</td>\n",
       "      <td>NaN</td>\n",
       "      <td>6.0</td>\n",
       "      <td>False</td>\n",
       "    </tr>\n",
       "    <tr>\n",
       "      <th>1959-01-03</th>\n",
       "      <td>SODANKYLA LOKKA FI</td>\n",
       "      <td>0.02</td>\n",
       "      <td>NaN</td>\n",
       "      <td>-9.0</td>\n",
       "      <td>True</td>\n",
       "    </tr>\n",
       "    <tr>\n",
       "      <th>1959-01-04</th>\n",
       "      <td>SODANKYLA LOKKA FI</td>\n",
       "      <td>0.08</td>\n",
       "      <td>NaN</td>\n",
       "      <td>10.0</td>\n",
       "      <td>True</td>\n",
       "    </tr>\n",
       "    <tr>\n",
       "      <th>1959-01-05</th>\n",
       "      <td>SODANKYLA LOKKA FI</td>\n",
       "      <td>0.09</td>\n",
       "      <td>NaN</td>\n",
       "      <td>13.0</td>\n",
       "      <td>True</td>\n",
       "    </tr>\n",
       "  </tbody>\n",
       "</table>\n",
       "</div>"
      ],
      "text/plain": [
       "                  STATION_NAME  PRCP  TMAX  TMIN  Rained\n",
       "DATE                                                    \n",
       "1959-01-01  SODANKYLA LOKKA FI  0.03   NaN   9.0    True\n",
       "1959-01-02  SODANKYLA LOKKA FI  0.00   NaN   6.0   False\n",
       "1959-01-03  SODANKYLA LOKKA FI  0.02   NaN  -9.0    True\n",
       "1959-01-04  SODANKYLA LOKKA FI  0.08   NaN  10.0    True\n",
       "1959-01-05  SODANKYLA LOKKA FI  0.09   NaN  13.0    True"
      ]
     },
     "execution_count": 10,
     "metadata": {},
     "output_type": "execute_result"
    }
   ],
   "source": [
    "data.head()"
   ]
  },
  {
   "cell_type": "code",
   "execution_count": 11,
   "metadata": {},
   "outputs": [],
   "source": [
    "#function to change the boolens True and False into 1 and 0\n",
    "def booleano(Value):\n",
    "    if Value == True:\n",
    "        return 1\n",
    "    else:\n",
    "        return 0"
   ]
  },
  {
   "cell_type": "code",
   "execution_count": 12,
   "metadata": {},
   "outputs": [],
   "source": [
    "#applying the function for each row in the column Rained\n",
    "data.Rained = data.Rained.apply(booleano)"
   ]
  },
  {
   "cell_type": "code",
   "execution_count": 13,
   "metadata": {},
   "outputs": [
    {
     "data": {
      "text/html": [
       "<div>\n",
       "<style scoped>\n",
       "    .dataframe tbody tr th:only-of-type {\n",
       "        vertical-align: middle;\n",
       "    }\n",
       "\n",
       "    .dataframe tbody tr th {\n",
       "        vertical-align: top;\n",
       "    }\n",
       "\n",
       "    .dataframe thead th {\n",
       "        text-align: right;\n",
       "    }\n",
       "</style>\n",
       "<table border=\"1\" class=\"dataframe\">\n",
       "  <thead>\n",
       "    <tr style=\"text-align: right;\">\n",
       "      <th></th>\n",
       "      <th>STATION_NAME</th>\n",
       "      <th>PRCP</th>\n",
       "      <th>TMAX</th>\n",
       "      <th>TMIN</th>\n",
       "      <th>Rained</th>\n",
       "    </tr>\n",
       "    <tr>\n",
       "      <th>DATE</th>\n",
       "      <th></th>\n",
       "      <th></th>\n",
       "      <th></th>\n",
       "      <th></th>\n",
       "      <th></th>\n",
       "    </tr>\n",
       "  </thead>\n",
       "  <tbody>\n",
       "    <tr>\n",
       "      <th>1959-01-01</th>\n",
       "      <td>SODANKYLA LOKKA FI</td>\n",
       "      <td>0.03</td>\n",
       "      <td>NaN</td>\n",
       "      <td>9.0</td>\n",
       "      <td>1</td>\n",
       "    </tr>\n",
       "    <tr>\n",
       "      <th>1959-01-02</th>\n",
       "      <td>SODANKYLA LOKKA FI</td>\n",
       "      <td>0.00</td>\n",
       "      <td>NaN</td>\n",
       "      <td>6.0</td>\n",
       "      <td>0</td>\n",
       "    </tr>\n",
       "    <tr>\n",
       "      <th>1959-01-03</th>\n",
       "      <td>SODANKYLA LOKKA FI</td>\n",
       "      <td>0.02</td>\n",
       "      <td>NaN</td>\n",
       "      <td>-9.0</td>\n",
       "      <td>1</td>\n",
       "    </tr>\n",
       "    <tr>\n",
       "      <th>1959-01-04</th>\n",
       "      <td>SODANKYLA LOKKA FI</td>\n",
       "      <td>0.08</td>\n",
       "      <td>NaN</td>\n",
       "      <td>10.0</td>\n",
       "      <td>1</td>\n",
       "    </tr>\n",
       "    <tr>\n",
       "      <th>1959-01-05</th>\n",
       "      <td>SODANKYLA LOKKA FI</td>\n",
       "      <td>0.09</td>\n",
       "      <td>NaN</td>\n",
       "      <td>13.0</td>\n",
       "      <td>1</td>\n",
       "    </tr>\n",
       "  </tbody>\n",
       "</table>\n",
       "</div>"
      ],
      "text/plain": [
       "                  STATION_NAME  PRCP  TMAX  TMIN  Rained\n",
       "DATE                                                    \n",
       "1959-01-01  SODANKYLA LOKKA FI  0.03   NaN   9.0       1\n",
       "1959-01-02  SODANKYLA LOKKA FI  0.00   NaN   6.0       0\n",
       "1959-01-03  SODANKYLA LOKKA FI  0.02   NaN  -9.0       1\n",
       "1959-01-04  SODANKYLA LOKKA FI  0.08   NaN  10.0       1\n",
       "1959-01-05  SODANKYLA LOKKA FI  0.09   NaN  13.0       1"
      ]
     },
     "execution_count": 13,
     "metadata": {},
     "output_type": "execute_result"
    }
   ],
   "source": [
    "data.head()"
   ]
  },
  {
   "cell_type": "code",
   "execution_count": 14,
   "metadata": {},
   "outputs": [
    {
     "data": {
      "text/html": [
       "<div>\n",
       "<style scoped>\n",
       "    .dataframe tbody tr th:only-of-type {\n",
       "        vertical-align: middle;\n",
       "    }\n",
       "\n",
       "    .dataframe tbody tr th {\n",
       "        vertical-align: top;\n",
       "    }\n",
       "\n",
       "    .dataframe thead th {\n",
       "        text-align: right;\n",
       "    }\n",
       "</style>\n",
       "<table border=\"1\" class=\"dataframe\">\n",
       "  <thead>\n",
       "    <tr style=\"text-align: right;\">\n",
       "      <th></th>\n",
       "      <th>PRCP</th>\n",
       "      <th>TMAX</th>\n",
       "      <th>TMIN</th>\n",
       "      <th>Rained</th>\n",
       "    </tr>\n",
       "    <tr>\n",
       "      <th>DATE</th>\n",
       "      <th></th>\n",
       "      <th></th>\n",
       "      <th></th>\n",
       "      <th></th>\n",
       "    </tr>\n",
       "  </thead>\n",
       "  <tbody>\n",
       "    <tr>\n",
       "      <th>1959-01-04</th>\n",
       "      <td>NaN</td>\n",
       "      <td>NaN</td>\n",
       "      <td>NaN</td>\n",
       "      <td>NaN</td>\n",
       "    </tr>\n",
       "    <tr>\n",
       "      <th>1959-01-11</th>\n",
       "      <td>0.35</td>\n",
       "      <td>NaN</td>\n",
       "      <td>72.0</td>\n",
       "      <td>6.0</td>\n",
       "    </tr>\n",
       "    <tr>\n",
       "      <th>1959-01-18</th>\n",
       "      <td>0.37</td>\n",
       "      <td>NaN</td>\n",
       "      <td>-77.0</td>\n",
       "      <td>3.0</td>\n",
       "    </tr>\n",
       "    <tr>\n",
       "      <th>1959-01-25</th>\n",
       "      <td>0.21</td>\n",
       "      <td>NaN</td>\n",
       "      <td>-166.0</td>\n",
       "      <td>4.0</td>\n",
       "    </tr>\n",
       "    <tr>\n",
       "      <th>1959-02-01</th>\n",
       "      <td>0.26</td>\n",
       "      <td>NaN</td>\n",
       "      <td>-11.0</td>\n",
       "      <td>5.0</td>\n",
       "    </tr>\n",
       "    <tr>\n",
       "      <th>...</th>\n",
       "      <td>...</td>\n",
       "      <td>...</td>\n",
       "      <td>...</td>\n",
       "      <td>...</td>\n",
       "    </tr>\n",
       "    <tr>\n",
       "      <th>2019-09-08</th>\n",
       "      <td>0.41</td>\n",
       "      <td>412.0</td>\n",
       "      <td>282.0</td>\n",
       "      <td>5.0</td>\n",
       "    </tr>\n",
       "    <tr>\n",
       "      <th>2019-09-15</th>\n",
       "      <td>0.34</td>\n",
       "      <td>393.0</td>\n",
       "      <td>273.0</td>\n",
       "      <td>3.0</td>\n",
       "    </tr>\n",
       "    <tr>\n",
       "      <th>2019-09-22</th>\n",
       "      <td>0.06</td>\n",
       "      <td>301.0</td>\n",
       "      <td>199.0</td>\n",
       "      <td>4.0</td>\n",
       "    </tr>\n",
       "    <tr>\n",
       "      <th>2019-09-29</th>\n",
       "      <td>0.90</td>\n",
       "      <td>311.0</td>\n",
       "      <td>268.0</td>\n",
       "      <td>4.0</td>\n",
       "    </tr>\n",
       "    <tr>\n",
       "      <th>2019-10-06</th>\n",
       "      <td>NaN</td>\n",
       "      <td>NaN</td>\n",
       "      <td>NaN</td>\n",
       "      <td>NaN</td>\n",
       "    </tr>\n",
       "  </tbody>\n",
       "</table>\n",
       "<p>3171 rows × 4 columns</p>\n",
       "</div>"
      ],
      "text/plain": [
       "            PRCP   TMAX   TMIN  Rained\n",
       "DATE                                  \n",
       "1959-01-04   NaN    NaN    NaN     NaN\n",
       "1959-01-11  0.35    NaN   72.0     6.0\n",
       "1959-01-18  0.37    NaN  -77.0     3.0\n",
       "1959-01-25  0.21    NaN -166.0     4.0\n",
       "1959-02-01  0.26    NaN  -11.0     5.0\n",
       "...          ...    ...    ...     ...\n",
       "2019-09-08  0.41  412.0  282.0     5.0\n",
       "2019-09-15  0.34  393.0  273.0     3.0\n",
       "2019-09-22  0.06  301.0  199.0     4.0\n",
       "2019-09-29  0.90  311.0  268.0     4.0\n",
       "2019-10-06   NaN    NaN    NaN     NaN\n",
       "\n",
       "[3171 rows x 4 columns]"
      ]
     },
     "execution_count": 14,
     "metadata": {},
     "output_type": "execute_result"
    }
   ],
   "source": [
    "#final data resample to week, and make a copy because there will be different plottings\n",
    "data_final = data.copy()\n",
    "#resampling by week\n",
    "data_final = data_final.resample(\"W\")\n",
    "\"\"\"Only aceepting as true the sum of week that are 7 days, the other cases are not a complete week, so the NaN values in Rained are not \n",
    "complete weeks\"\"\"\n",
    "data_final = data_final.sum()[data_final.count() == 7]\n",
    "\n",
    "data_final"
   ]
  },
  {
   "cell_type": "code",
   "execution_count": 15,
   "metadata": {},
   "outputs": [],
   "source": [
    "#getting the weeks that are only 7 days\n",
    "data_final = data_final.loc[data_final.Rained.notna()]"
   ]
  },
  {
   "cell_type": "code",
   "execution_count": 16,
   "metadata": {},
   "outputs": [
    {
     "data": {
      "text/html": [
       "<div>\n",
       "<style scoped>\n",
       "    .dataframe tbody tr th:only-of-type {\n",
       "        vertical-align: middle;\n",
       "    }\n",
       "\n",
       "    .dataframe tbody tr th {\n",
       "        vertical-align: top;\n",
       "    }\n",
       "\n",
       "    .dataframe thead th {\n",
       "        text-align: right;\n",
       "    }\n",
       "</style>\n",
       "<table border=\"1\" class=\"dataframe\">\n",
       "  <thead>\n",
       "    <tr style=\"text-align: right;\">\n",
       "      <th></th>\n",
       "      <th>PRCP</th>\n",
       "      <th>TMAX</th>\n",
       "      <th>TMIN</th>\n",
       "      <th>Rained</th>\n",
       "    </tr>\n",
       "    <tr>\n",
       "      <th>DATE</th>\n",
       "      <th></th>\n",
       "      <th></th>\n",
       "      <th></th>\n",
       "      <th></th>\n",
       "    </tr>\n",
       "  </thead>\n",
       "  <tbody>\n",
       "    <tr>\n",
       "      <th>1959-01-11</th>\n",
       "      <td>0.35</td>\n",
       "      <td>NaN</td>\n",
       "      <td>72.0</td>\n",
       "      <td>6.0</td>\n",
       "    </tr>\n",
       "    <tr>\n",
       "      <th>1959-01-18</th>\n",
       "      <td>0.37</td>\n",
       "      <td>NaN</td>\n",
       "      <td>-77.0</td>\n",
       "      <td>3.0</td>\n",
       "    </tr>\n",
       "    <tr>\n",
       "      <th>1959-01-25</th>\n",
       "      <td>0.21</td>\n",
       "      <td>NaN</td>\n",
       "      <td>-166.0</td>\n",
       "      <td>4.0</td>\n",
       "    </tr>\n",
       "    <tr>\n",
       "      <th>1959-02-01</th>\n",
       "      <td>0.26</td>\n",
       "      <td>NaN</td>\n",
       "      <td>-11.0</td>\n",
       "      <td>5.0</td>\n",
       "    </tr>\n",
       "    <tr>\n",
       "      <th>1959-02-08</th>\n",
       "      <td>0.03</td>\n",
       "      <td>NaN</td>\n",
       "      <td>104.0</td>\n",
       "      <td>2.0</td>\n",
       "    </tr>\n",
       "    <tr>\n",
       "      <th>...</th>\n",
       "      <td>...</td>\n",
       "      <td>...</td>\n",
       "      <td>...</td>\n",
       "      <td>...</td>\n",
       "    </tr>\n",
       "    <tr>\n",
       "      <th>2019-09-01</th>\n",
       "      <td>0.08</td>\n",
       "      <td>463.0</td>\n",
       "      <td>337.0</td>\n",
       "      <td>2.0</td>\n",
       "    </tr>\n",
       "    <tr>\n",
       "      <th>2019-09-08</th>\n",
       "      <td>0.41</td>\n",
       "      <td>412.0</td>\n",
       "      <td>282.0</td>\n",
       "      <td>5.0</td>\n",
       "    </tr>\n",
       "    <tr>\n",
       "      <th>2019-09-15</th>\n",
       "      <td>0.34</td>\n",
       "      <td>393.0</td>\n",
       "      <td>273.0</td>\n",
       "      <td>3.0</td>\n",
       "    </tr>\n",
       "    <tr>\n",
       "      <th>2019-09-22</th>\n",
       "      <td>0.06</td>\n",
       "      <td>301.0</td>\n",
       "      <td>199.0</td>\n",
       "      <td>4.0</td>\n",
       "    </tr>\n",
       "    <tr>\n",
       "      <th>2019-09-29</th>\n",
       "      <td>0.90</td>\n",
       "      <td>311.0</td>\n",
       "      <td>268.0</td>\n",
       "      <td>4.0</td>\n",
       "    </tr>\n",
       "  </tbody>\n",
       "</table>\n",
       "<p>3043 rows × 4 columns</p>\n",
       "</div>"
      ],
      "text/plain": [
       "            PRCP   TMAX   TMIN  Rained\n",
       "DATE                                  \n",
       "1959-01-11  0.35    NaN   72.0     6.0\n",
       "1959-01-18  0.37    NaN  -77.0     3.0\n",
       "1959-01-25  0.21    NaN -166.0     4.0\n",
       "1959-02-01  0.26    NaN  -11.0     5.0\n",
       "1959-02-08  0.03    NaN  104.0     2.0\n",
       "...          ...    ...    ...     ...\n",
       "2019-09-01  0.08  463.0  337.0     2.0\n",
       "2019-09-08  0.41  412.0  282.0     5.0\n",
       "2019-09-15  0.34  393.0  273.0     3.0\n",
       "2019-09-22  0.06  301.0  199.0     4.0\n",
       "2019-09-29  0.90  311.0  268.0     4.0\n",
       "\n",
       "[3043 rows x 4 columns]"
      ]
     },
     "execution_count": 16,
     "metadata": {},
     "output_type": "execute_result"
    }
   ],
   "source": [
    "data_final"
   ]
  },
  {
   "cell_type": "code",
   "execution_count": 17,
   "metadata": {},
   "outputs": [],
   "source": [
    "#getting the dataframe for plotting where are grouped by times that rained\n",
    "plotting_data = data_final.groupby(\"Rained\").count().reset_index(drop = False)\n",
    "plotting_data\n",
    "#it can be eliminated TMAX and TMIN columns\n",
    "plotting_data.drop([\"TMAX\",\"TMIN\"], axis = 1, inplace = True)"
   ]
  },
  {
   "cell_type": "code",
   "execution_count": 18,
   "metadata": {},
   "outputs": [
    {
     "data": {
      "text/html": [
       "<div>\n",
       "<style scoped>\n",
       "    .dataframe tbody tr th:only-of-type {\n",
       "        vertical-align: middle;\n",
       "    }\n",
       "\n",
       "    .dataframe tbody tr th {\n",
       "        vertical-align: top;\n",
       "    }\n",
       "\n",
       "    .dataframe thead th {\n",
       "        text-align: right;\n",
       "    }\n",
       "</style>\n",
       "<table border=\"1\" class=\"dataframe\">\n",
       "  <thead>\n",
       "    <tr style=\"text-align: right;\">\n",
       "      <th></th>\n",
       "      <th>Rained</th>\n",
       "      <th>PRCP</th>\n",
       "    </tr>\n",
       "  </thead>\n",
       "  <tbody>\n",
       "    <tr>\n",
       "      <th>0</th>\n",
       "      <td>0.0</td>\n",
       "      <td>156</td>\n",
       "    </tr>\n",
       "    <tr>\n",
       "      <th>1</th>\n",
       "      <td>1.0</td>\n",
       "      <td>300</td>\n",
       "    </tr>\n",
       "    <tr>\n",
       "      <th>2</th>\n",
       "      <td>2.0</td>\n",
       "      <td>491</td>\n",
       "    </tr>\n",
       "    <tr>\n",
       "      <th>3</th>\n",
       "      <td>3.0</td>\n",
       "      <td>568</td>\n",
       "    </tr>\n",
       "    <tr>\n",
       "      <th>4</th>\n",
       "      <td>4.0</td>\n",
       "      <td>595</td>\n",
       "    </tr>\n",
       "    <tr>\n",
       "      <th>5</th>\n",
       "      <td>5.0</td>\n",
       "      <td>501</td>\n",
       "    </tr>\n",
       "    <tr>\n",
       "      <th>6</th>\n",
       "      <td>6.0</td>\n",
       "      <td>296</td>\n",
       "    </tr>\n",
       "    <tr>\n",
       "      <th>7</th>\n",
       "      <td>7.0</td>\n",
       "      <td>134</td>\n",
       "    </tr>\n",
       "  </tbody>\n",
       "</table>\n",
       "</div>"
      ],
      "text/plain": [
       "   Rained  PRCP\n",
       "0     0.0   156\n",
       "1     1.0   300\n",
       "2     2.0   491\n",
       "3     3.0   568\n",
       "4     4.0   595\n",
       "5     5.0   501\n",
       "6     6.0   296\n",
       "7     7.0   134"
      ]
     },
     "execution_count": 18,
     "metadata": {},
     "output_type": "execute_result"
    }
   ],
   "source": [
    "#since the analysis is using PRCP, we need the count of times these were repited\n",
    "plotting_data"
   ]
  },
  {
   "cell_type": "code",
   "execution_count": 19,
   "metadata": {},
   "outputs": [
    {
     "data": {
      "image/png": "[encoded data removed]",
      "text/plain": [
       "<Figure size 432x288 with 1 Axes>"
      ]
     },
     "metadata": {
      "needs_background": "light"
     },
     "output_type": "display_data"
    }
   ],
   "source": [
    "#plotting binomial distribution\n",
    "#x axis the times it rained by week, first paramteter and, y axis the repetition, second parameter\n",
    "plt.plot(plotting_data.Rained , plotting_data.PRCP)\n",
    "#title of the plot\n",
    "plt.title(\"Binomial distribution\")\n",
    "#name of the y - axis\n",
    "plt.ylabel(\"Times\")\n",
    "#name of the x - axis\n",
    "plt.xlabel(\"Days rained by week\")\n",
    "plt.show()"
   ]
  },
  {
   "cell_type": "code",
   "execution_count": 20,
   "metadata": {},
   "outputs": [
    {
     "data": {
      "image/png": "[encoded data removed]",
      "text/plain": [
       "<Figure size 432x288 with 1 Axes>"
      ]
     },
     "metadata": {
      "needs_background": "light"
     },
     "output_type": "display_data"
    }
   ],
   "source": [
    "#plotting using the histogram and plot\n",
    "plt.hist(data_final.Rained, bins = 8 )\n",
    "plt.plot(plotting_data.Rained , plotting_data.PRCP)\n",
    "#title of the plot\n",
    "plt.title(\"Binomial distribution\")\n",
    "#name of the y - axis\n",
    "plt.ylabel(\"Times\")\n",
    "#name of the x - axis\n",
    "plt.xlabel(\"Days rained by week\")\n",
    "#limits of the x - axis\n",
    "plt.xlim([0,8])\n",
    "plt.show()"
   ]
  },
  {
   "cell_type": "code",
   "execution_count": 24,
   "metadata": {},
   "outputs": [
    {
     "data": {
      "image/png": "[encoded data removed]",
      "text/plain": [
       "<Figure size 432x288 with 1 Axes>"
      ]
     },
     "metadata": {
      "needs_background": "light"
     },
     "output_type": "display_data"
    }
   ],
   "source": [
    "#plotting using seeaborn, but there is a normalization to make it soft\n",
    "sns.distplot(data_final.Rained, fit =  norm, kde = False, bins = 8)\n",
    "plt.title(\"Binomial distribution\")\n",
    "plt.show()"
   ]
  },
  {
   "cell_type": "code",
   "execution_count": 25,
   "metadata": {},
   "outputs": [],
   "source": [
    "#probability that rains at least one time in the week\n",
    "p = data.Rained.mean()\n",
    "#sample \n",
    "shape_data = data_final.shape\n",
    "#actually n is 8, but in seven takes in account 0 so is 7 + 1\n",
    "n = 7"
   ]
  },
  {
   "cell_type": "markdown",
   "metadata": {},
   "source": [
    "Moments"
   ]
  },
  {
   "cell_type": "code",
   "execution_count": 28,
   "metadata": {},
   "outputs": [],
   "source": [
    "#getting the mean\n",
    "mean_data = n * p\n",
    "#getting the variance\n",
    "var_data = n * p * (1-p)"
   ]
  },
  {
   "cell_type": "code",
   "execution_count": 29,
   "metadata": {},
   "outputs": [
    {
     "data": {
      "text/plain": [
       "0.49730135636175904"
      ]
     },
     "execution_count": 29,
     "metadata": {},
     "output_type": "execute_result"
    }
   ],
   "source": [
    "data.Rained.mean()"
   ]
  },
  {
   "cell_type": "code",
   "execution_count": 30,
   "metadata": {},
   "outputs": [
    {
     "data": {
      "text/plain": [
       "0.25000445076461103"
      ]
     },
     "execution_count": 30,
     "metadata": {},
     "output_type": "execute_result"
    }
   ],
   "source": [
    "data.Rained.var()"
   ]
  },
  {
   "cell_type": "code",
   "execution_count": 27,
   "metadata": {},
   "outputs": [
    {
     "name": "stdout",
     "output_type": "stream",
     "text": [
      "Probability:  0.49730135636175904\n",
      "Sample:  3043\n",
      "First moment Mean:  3.4811094945323133\n",
      "Second moment Variance:  1.7499490212575968\n"
     ]
    }
   ],
   "source": [
    "print(\"Probability: \",p)\n",
    "print(\"Sample: \",shape_data[0])\n",
    "print(\"First moment Mean: \", mean_data)\n",
    "print(\"Second moment Variance: \", var_data)"
   ]
  },
  {
   "cell_type": "markdown",
   "metadata": {},
   "source": [
    "# Using the distribution we made in the last homework we are going to make a simulation of a binomial"
   ]
  },
  {
   "cell_type": "code",
   "execution_count": 31,
   "metadata": {},
   "outputs": [],
   "source": [
    "confirming_data = distributions.binomial(n, p, shape_data[0])"
   ]
  },
  {
   "cell_type": "code",
   "execution_count": 32,
   "metadata": {},
   "outputs": [
    {
     "data": {
      "image/png": "[encoded data removed]",
      "text/plain": [
       "<Figure size 432x288 with 1 Axes>"
      ]
     },
     "metadata": {
      "needs_background": "light"
     },
     "output_type": "display_data"
    }
   ],
   "source": [
    "#plotting the histogram\n",
    "plt.hist(confirming_data, bins = n+1)\n",
    "plt.title(\"Binomial distribution\")\n",
    "plt.show()"
   ]
  },
  {
   "cell_type": "code",
   "execution_count": 33,
   "metadata": {},
   "outputs": [
    {
     "data": {
      "image/png": "[encoded data removed]",
      "text/plain": [
       "<Figure size 432x288 with 1 Axes>"
      ]
     },
     "metadata": {
      "needs_background": "light"
     },
     "output_type": "display_data"
    }
   ],
   "source": [
    "#plotting the histogram, in this plot there is a normalization that makes the distribution soft\n",
    "sns.distplot(confirming_data, fit =  norm, kde = False, bins = n+1)\n",
    "plt.title(\"Binomial distribution\")\n",
    "plt.show()"
   ]
  },
  {
   "cell_type": "markdown",
   "metadata": {},
   "source": [
    "# Plotting the real probability against the theorical probabilities"
   ]
  },
  {
   "cell_type": "code",
   "execution_count": 34,
   "metadata": {},
   "outputs": [],
   "source": [
    "def comb(n ,x):\n",
    "    \"\"\"\n",
    "    Docstring: function to get a combinatory\n",
    "    input: n objects for combainin, x ways of combaining\n",
    "    output: a combinatory\n",
    "    \"\"\"\n",
    "    #getting the numerator\n",
    "    numer = math.factorial(n)\n",
    "    #getting the denominator\n",
    "    denom = math.factorial(x)*math.factorial(n-x)\n",
    "    return int(numer / denom)"
   ]
  },
  {
   "cell_type": "code",
   "execution_count": 35,
   "metadata": {},
   "outputs": [],
   "source": [
    "#making the real distribution\n",
    "def realbinomial(pro , n):\n",
    "    \"\"\"\n",
    "    Docstring: description function to get the binomial probability\n",
    "    Input: pro is the proability, n is maximum number of succes\n",
    "    Output: return a list of list where the first sublist contain the number of success and the second \n",
    "    sublist the probabilities of each one\n",
    "    \"\"\"\n",
    "    p_vals = []\n",
    "    for i in range(n+1):\n",
    "        #it is the part of p ^ x\n",
    "        first_part = pro**i\n",
    "        #It is the part of (1-p)^(n-x)\n",
    "        second_part = (1-pro)**(n-i)\n",
    "        p = comb(n, i) * first_part * second_part\n",
    "        p_vals.append(p)\n",
    "        \n",
    "    return [list(range(0,n+1)), p_vals]"
   ]
  },
  {
   "cell_type": "code",
   "execution_count": 36,
   "metadata": {},
   "outputs": [],
   "source": [
    "real_data = realbinomial(p,7)"
   ]
  },
  {
   "cell_type": "code",
   "execution_count": 37,
   "metadata": {},
   "outputs": [
    {
     "data": {
      "text/plain": [
       "[[0, 1, 2, 3, 4, 5, 6, 7],\n",
       " [0.008112486629530208,\n",
       "  0.05617770126837032,\n",
       "  0.16672362691802406,\n",
       "  0.27488929617890995,\n",
       "  0.271937912642305,\n",
       "  0.16141093020396957,\n",
       "  0.05322597381014101,\n",
       "  0.007522072348750339]]"
      ]
     },
     "execution_count": 37,
     "metadata": {},
     "output_type": "execute_result"
    }
   ],
   "source": [
    "real_data"
   ]
  },
  {
   "cell_type": "markdown",
   "metadata": {},
   "source": [
    "### Plotting the theorical points of the probability and n against the real histograms"
   ]
  },
  {
   "cell_type": "code",
   "execution_count": 38,
   "metadata": {},
   "outputs": [
    {
     "data": {
      "image/png": "[encoded data removed]",
      "text/plain": [
       "<Figure size 432x288 with 1 Axes>"
      ]
     },
     "metadata": {
      "needs_background": "light"
     },
     "output_type": "display_data"
    }
   ],
   "source": [
    "#plotting the histogram without appliyng the normalization, so this is the most representative plot\n",
    "#maximum likelihood\n",
    "plt.hist(data_final.Rained, bins = n+1, color = 'yellow', weights =[1/shape_data[0]]*shape_data[0])\n",
    "plt.title(\"Binomial distribution\")\n",
    "plt.xticks(range(n+1))\n",
    "#plotting the points of the theorical probability\n",
    "plt.scatter(real_data[0], real_data[1], color = 'red', zorder = 3, s=128, marker='x')\n",
    "#plotting lines from the x - axis up to the points of the theorical probability\n",
    "plt.vlines(real_data[0], 0,real_data[1], color = 'red')\n",
    "plt.show()"
   ]
  },
  {
   "cell_type": "markdown",
   "metadata": {},
   "source": [
    "## Making into a soft one"
   ]
  },
  {
   "cell_type": "code",
   "execution_count": 39,
   "metadata": {},
   "outputs": [
    {
     "data": {
      "image/png": "[encoded data removed]",
      "text/plain": [
       "<Figure size 432x288 with 1 Axes>"
      ]
     },
     "metadata": {
      "needs_background": "light"
     },
     "output_type": "display_data"
    }
   ],
   "source": [
    "#plotting the histogram using seaborn\n",
    "#but in this case there is normalization that makes a soft distribution\n",
    "sns.distplot(confirming_data, fit =  norm, kde = False, bins = n+1)\n",
    "plt.title(\"Binomial distribution\")\n",
    "plt.xticks(range(n+1))\n",
    "#plotting the points of the theorical probability\n",
    "plt.scatter(real_data[0], real_data[1], color = 'red', zorder = 3, s=128, marker='x')\n",
    "#plotting lines from the x - axis up to the points of the theorical probability\n",
    "plt.vlines(real_data[0], 0,real_data[1], color = 'red')\n",
    "plt.show()"
   ]
  },
  {
   "cell_type": "markdown",
   "metadata": {},
   "source": [
    "### Conclusion:"
   ]
  },
  {
   "cell_type": "markdown",
   "metadata": {},
   "source": [
    "We can observe it is not exactly the theorical binomial, however, it is a binomial distribution in the practiced because are so similar in the tails, this is because the probability is 0.49 so in the theorical there will be more height in the median and mean, but in the practice change.\n",
    "Additionally, the most days it rained by week were 3 and 4."
   ]
  }
 ],
 "metadata": {
  "kernelspec": {
   "display_name": "Python 3",
   "language": "python",
   "name": "python3"
  },
  "language_info": {
   "codemirror_mode": {
    "name": "ipython",
    "version": 3
   },
   "file_extension": ".py",
   "mimetype": "text/x-python",
   "name": "python",
   "nbconvert_exporter": "python",
   "pygments_lexer": "ipython3",
   "version": "3.6.8"
  }
 },
 "nbformat": 4,
 "nbformat_minor": 4
}
