{
 "cells": [
  {
   "cell_type": "markdown",
   "metadata": {},
   "source": [
    "# Discrete Distributions"
   ]
  },
  {
   "cell_type": "code",
   "execution_count": 1,
   "metadata": {},
   "outputs": [],
   "source": [
    "import numpy as np\n",
    "from matplotlib import pyplot as plt\n",
    "import math\n",
    "import random"
   ]
  },
  {
   "cell_type": "markdown",
   "metadata": {},
   "source": [
    "## Bernoulli distribution\n",
    "\n",
    "The simplest discrete distribution. It has the following proporties:\n",
    "- Only two possibles outcomes (success and failuer)\n",
    "- The probability of success remains and constants (p)\n",
    "- The events are independent"
   ]
  },
  {
   "cell_type": "code",
   "execution_count": 2,
   "metadata": {},
   "outputs": [],
   "source": [
    "#function from getting bernoulli\n",
    "def bernoulli(p):\n",
    "    \"\"\"\n",
    "    Docstring:\n",
    "    Description: function to get a bernoulli\n",
    "    input: p:  probability\n",
    "    output: a 1 or 0 that means if True or False\n",
    "    \"\"\"\n",
    "    #create a random number between 0 and 1\n",
    "    r = np.random.random()\n",
    "    #check if the number is less or equal than probability\n",
    "    if r <= p:\n",
    "        return 1\n",
    "    else:\n",
    "        return 0"
   ]
  },
  {
   "cell_type": "code",
   "execution_count": 3,
   "metadata": {},
   "outputs": [
    {
     "data": {
      "text/plain": [
       "1"
      ]
     },
     "execution_count": 3,
     "metadata": {},
     "output_type": "execute_result"
    }
   ],
   "source": [
    "bernoulli(1/2)"
   ]
  },
  {
   "cell_type": "code",
   "execution_count": 4,
   "metadata": {},
   "outputs": [],
   "source": [
    "#function for bernoulli distribution\n",
    "def bernoulli_dist(p, size=1):\n",
    "    \"\"\"\n",
    "    Docstring: function to get a bernoulli distribution\n",
    "    input: p is probability, size is the size of the sample\n",
    "    outplut: return an array of 0 and 1\n",
    "    \"\"\"\n",
    "    sample = []\n",
    "    \n",
    "    #range that makes an array of probabilities created\n",
    "    for i in range(size):\n",
    "        sample.append(bernoulli(p))\n",
    "        \n",
    "    return np.array(sample)"
   ]
  },
  {
   "cell_type": "code",
   "execution_count": 5,
   "metadata": {},
   "outputs": [],
   "source": [
    "#creating an array of bernoulli dist\n",
    "sample_data = bernoulli_dist(0.8,100000)"
   ]
  },
  {
   "cell_type": "code",
   "execution_count": 6,
   "metadata": {},
   "outputs": [
    {
     "data": {
      "text/plain": [
       "(array([19834.,     0., 80166.]),\n",
       " array([0.        , 0.33333333, 0.66666667, 1.        ]),\n",
       " <a list of 3 Patch objects>)"
      ]
     },
     "execution_count": 6,
     "metadata": {},
     "output_type": "execute_result"
    },
    {
     "data": {
      "image/png": "[encoded data removed]",
      "text/plain": [
       "<Figure size 432x288 with 1 Axes>"
      ]
     },
     "metadata": {
      "needs_background": "light"
     },
     "output_type": "display_data"
    }
   ],
   "source": [
    "#plotting the bernoulli dist made\n",
    "plt.hist(sample_data, range=(0,1), bins = 3 )"
   ]
  },
  {
   "cell_type": "markdown",
   "metadata": {},
   "source": [
    "### Expectative and variance\n",
    "$E(x) = \\sum(x\\cdot f_X(x))$\n",
    "\n",
    "$\\sigma_x^2 = E(x^2)-E(x)^2$"
   ]
  },
  {
   "cell_type": "code",
   "execution_count": 7,
   "metadata": {},
   "outputs": [],
   "source": [
    "#getting the expectative\n",
    "data_expectative = sample_data.mean()\n",
    "#getting the varianece\n",
    "data_variance = sample_data.var()\n",
    "p = .8"
   ]
  },
  {
   "cell_type": "code",
   "execution_count": 8,
   "metadata": {},
   "outputs": [
    {
     "name": "stdout",
     "output_type": "stream",
     "text": [
      "sample mean:  0.80166 sample variance:  0.15900124440000002\n",
      "Exact mean:  0.8 Exact variance:  0.15999999999999998\n"
     ]
    }
   ],
   "source": [
    "print(\"sample mean: \",data_expectative,\"sample variance: \",data_variance)\n",
    "print(\"Exact mean: \", p, \"Exact variance: \",p*(1-p))"
   ]
  },
  {
   "cell_type": "markdown",
   "metadata": {},
   "source": [
    "## Binomial Distribution\n",
    "The binomial distribution describes the probability of having $x$ successes in $n$ Bernoulii trials with a success chance of $p$"
   ]
  },
  {
   "cell_type": "code",
   "execution_count": 9,
   "metadata": {},
   "outputs": [
    {
     "name": "stdout",
     "output_type": "stream",
     "text": [
      "[0 1 1 0 0 0 0 0 0 0 0 0 0 0 0 0 0 0 0 0]\n"
     ]
    }
   ],
   "source": [
    "#variable declaration\n",
    "p = 0.2\n",
    "size = 20\n",
    "sample_data = bernoulli_dist(p, size)\n",
    "print(sample_data)"
   ]
  },
  {
   "cell_type": "code",
   "execution_count": 10,
   "metadata": {},
   "outputs": [
    {
     "data": {
      "text/plain": [
       "2"
      ]
     },
     "execution_count": 10,
     "metadata": {},
     "output_type": "execute_result"
    }
   ],
   "source": [
    "sample_data.sum()"
   ]
  },
  {
   "cell_type": "code",
   "execution_count": 11,
   "metadata": {},
   "outputs": [],
   "source": [
    "#function for creating binomial distribution\n",
    "def binomial(n, p, size=1):\n",
    "    \"\"\"\n",
    "    Docstring: function to create a binomial distribution\n",
    "    Input: n times of exit, p is probability and size is the size of the sample\n",
    "    output: an array that contains numbers that are the exits by each iteration of the for\n",
    "    \"\"\"\n",
    "    sample = []\n",
    "    \n",
    "    for i in range(size):\n",
    "        sample.append(bernoulli_dist(p, n).sum())\n",
    "        \n",
    "    return np.array(sample)"
   ]
  },
  {
   "cell_type": "code",
   "execution_count": 12,
   "metadata": {},
   "outputs": [
    {
     "name": "stdout",
     "output_type": "stream",
     "text": [
      "[1 0 1 ... 1 1 2]\n"
     ]
    }
   ],
   "source": [
    "p = 0.2\n",
    "n = 10\n",
    "size = 10000\n",
    "sample_data = binomial(n, p , size)\n",
    "print(sample_data)"
   ]
  },
  {
   "cell_type": "code",
   "execution_count": 13,
   "metadata": {},
   "outputs": [
    {
     "data": {
      "image/png": "[encoded data removed]",
      "text/plain": [
       "<Figure size 432x288 with 1 Axes>"
      ]
     },
     "metadata": {
      "needs_background": "light"
     },
     "output_type": "display_data"
    }
   ],
   "source": [
    "plt.hist(sample_data, range = (0,n), bins=2*n )\n",
    "plt.title(\"Binomial distribution\")\n",
    "plt.show()"
   ]
  },
  {
   "cell_type": "code",
   "execution_count": 14,
   "metadata": {},
   "outputs": [],
   "source": [
    "exact = []\n",
    "for x in range(n+1):\n",
    "    c = math.factorial(n)/(math.factorial(n-x)*math.factorial(x))\n",
    "    exact.append(c*math.pow(p,x)*math.pow(1-p,n-x)*size)"
   ]
  },
  {
   "cell_type": "markdown",
   "metadata": {},
   "source": [
    "## Poisson Distribution\n",
    "* lambda: average value of the sample\n",
    "* n: lenght of the sample\n",
    "* size: number of sample"
   ]
  },
  {
   "cell_type": "code",
   "execution_count": 15,
   "metadata": {},
   "outputs": [],
   "source": [
    "lambda_value = 1\n",
    "size = 100"
   ]
  },
  {
   "cell_type": "markdown",
   "metadata": {},
   "source": [
    "### Algotithm\n",
    "* calculate the corresponding p\n",
    "* Do the \"site\" thus\n",
    " ###### binomial distribution sample with (n,p)\n",
    " ######  append it to sample array\n",
    " ###### return sample array"
   ]
  },
  {
   "cell_type": "code",
   "execution_count": 16,
   "metadata": {},
   "outputs": [],
   "source": [
    "def poisson(l, size=1, n=1000):\n",
    "    \"\"\"\n",
    "    Docstring: function to get the poisson\n",
    "    input: l is lambda, size is the size of the sample, n times of exits\n",
    "    output: an array that contains numbers that are the exits by each iteration of the for\n",
    "    \"\"\"\n",
    "    p = l/n\n",
    "    sample = []\n",
    "    #for to repit the size\n",
    "    for i in range(size):\n",
    "        sample.append(binomial(n,p).sum())\n",
    "        \n",
    "    return np.array(sample)\n",
    "    "
   ]
  },
  {
   "cell_type": "code",
   "execution_count": 17,
   "metadata": {},
   "outputs": [],
   "source": [
    "l = 4\n",
    "n = 10\n",
    "size = 1000\n",
    "\n",
    "sample_data = poisson(l,size, n)\n",
    "sample_data2 = poisson(l,size)"
   ]
  },
  {
   "cell_type": "code",
   "execution_count": 18,
   "metadata": {},
   "outputs": [
    {
     "data": {
      "text/plain": [
       "array([5, 3, 3, 5, 7, 7, 2, 5, 4, 3, 4, 2, 4, 2, 8, 2, 1, 3, 7, 5, 4, 1,\n",
       "       3, 0, 3, 5, 4, 8, 3, 8, 6, 3, 3, 7, 3, 4, 7, 4, 2, 5, 5, 4, 6, 5,\n",
       "       4, 2, 5, 2, 6, 2, 5, 3, 3, 3, 7, 5, 4, 5, 4, 4, 3, 3, 2, 6, 1, 4,\n",
       "       1, 3, 2, 3, 6, 3, 4, 5, 4, 5, 3, 5, 5, 4, 4, 4, 2, 7, 3, 3, 2, 2,\n",
       "       4, 7, 5, 1, 2, 3, 3, 3, 4, 4, 5, 4, 3, 3, 2, 6, 3, 1, 5, 5, 3, 7,\n",
       "       3, 4, 3, 4, 2, 4, 6, 7, 3, 4, 5, 3, 2, 6, 5, 8, 5, 3, 2, 4, 4, 6,\n",
       "       5, 5, 4, 4, 3, 5, 4, 4, 5, 3, 4, 4, 8, 4, 8, 4, 5, 1, 4, 2, 2, 3,\n",
       "       4, 7, 6, 3, 1, 3, 6, 4, 2, 2, 2, 4, 4, 3, 2, 6, 5, 4, 3, 2, 4, 7,\n",
       "       1, 4, 5, 2, 5, 5, 1, 4, 4, 3, 3, 5, 4, 4, 1, 3, 4, 5, 5, 1, 2, 3,\n",
       "       4, 4, 4, 3, 4, 3, 5, 4, 3, 7, 2, 6, 5, 2, 5, 4, 7, 5, 2, 5, 3, 1,\n",
       "       4, 3, 5, 5, 6, 4, 2, 5, 5, 2, 5, 3, 3, 5, 5, 6, 4, 6, 4, 3, 4, 6,\n",
       "       5, 4, 5, 2, 5, 4, 4, 6, 6, 2, 3, 2, 0, 1, 4, 8, 6, 5, 6, 2, 5, 4,\n",
       "       2, 2, 5, 3, 5, 5, 5, 5, 5, 2, 4, 6, 4, 3, 3, 6, 6, 5, 2, 3, 3, 5,\n",
       "       4, 2, 4, 1, 3, 6, 2, 3, 4, 5, 2, 5, 5, 3, 3, 5, 3, 2, 3, 3, 5, 4,\n",
       "       6, 4, 3, 5, 7, 5, 4, 1, 6, 5, 3, 6, 3, 2, 2, 1, 3, 5, 2, 5, 7, 5,\n",
       "       3, 4, 6, 3, 3, 5, 7, 5, 3, 3, 7, 6, 4, 7, 4, 7, 3, 5, 6, 3, 3, 7,\n",
       "       3, 5, 3, 3, 3, 6, 4, 3, 2, 1, 4, 7, 6, 2, 5, 6, 2, 7, 4, 1, 2, 4,\n",
       "       3, 4, 2, 3, 4, 4, 5, 5, 4, 3, 5, 5, 5, 6, 4, 3, 2, 4, 5, 4, 6, 4,\n",
       "       2, 5, 5, 3, 6, 4, 4, 4, 1, 2, 2, 4, 4, 4, 1, 5, 1, 4, 4, 4, 4, 8,\n",
       "       3, 3, 3, 2, 5, 3, 6, 4, 4, 3, 8, 4, 5, 4, 4, 1, 5, 6, 4, 2, 5, 2,\n",
       "       4, 4, 3, 8, 3, 4, 2, 6, 0, 5, 1, 4, 5, 4, 6, 4, 4, 4, 6, 3, 7, 5,\n",
       "       6, 5, 6, 6, 2, 7, 7, 3, 4, 1, 4, 6, 3, 6, 5, 4, 7, 7, 3, 2, 4, 4,\n",
       "       4, 2, 5, 3, 2, 4, 3, 5, 4, 3, 6, 4, 7, 4, 4, 5, 4, 1, 2, 3, 4, 4,\n",
       "       5, 4, 2, 4, 3, 6, 4, 6, 6, 1, 5, 4, 4, 6, 3, 4, 1, 3, 3, 2, 4, 5,\n",
       "       4, 5, 2, 2, 6, 3, 2, 6, 6, 6, 6, 6, 2, 3, 6, 5, 4, 2, 5, 3, 4, 4,\n",
       "       3, 6, 3, 3, 5, 7, 5, 3, 3, 3, 4, 4, 2, 4, 4, 2, 1, 5, 3, 3, 2, 4,\n",
       "       6, 3, 5, 4, 3, 6, 5, 2, 2, 4, 3, 5, 6, 3, 5, 4, 4, 2, 1, 6, 5, 1,\n",
       "       6, 6, 3, 2, 6, 5, 2, 3, 1, 4, 4, 5, 4, 4, 3, 4, 3, 4, 5, 3, 2, 6,\n",
       "       5, 5, 5, 2, 4, 7, 2, 8, 4, 4, 2, 1, 2, 3, 4, 5, 3, 2, 4, 4, 3, 5,\n",
       "       4, 4, 6, 5, 5, 6, 3, 3, 4, 1, 6, 3, 9, 3, 3, 4, 5, 5, 3, 6, 2, 6,\n",
       "       2, 3, 5, 3, 6, 4, 4, 5, 6, 5, 1, 1, 4, 2, 3, 5, 2, 5, 5, 5, 1, 2,\n",
       "       7, 3, 5, 3, 5, 2, 6, 5, 5, 1, 2, 6, 5, 3, 6, 6, 2, 2, 2, 4, 2, 4,\n",
       "       3, 2, 2, 5, 4, 4, 5, 5, 5, 1, 5, 6, 3, 2, 3, 5, 2, 7, 4, 7, 3, 4,\n",
       "       3, 7, 3, 5, 3, 2, 4, 6, 3, 3, 3, 4, 2, 4, 4, 4, 6, 4, 3, 2, 3, 5,\n",
       "       5, 2, 2, 5, 5, 3, 5, 6, 3, 5, 3, 4, 4, 3, 5, 3, 4, 6, 2, 4, 4, 3,\n",
       "       5, 5, 7, 4, 4, 8, 5, 1, 4, 1, 2, 4, 6, 5, 4, 4, 4, 7, 3, 4, 5, 6,\n",
       "       3, 3, 5, 5, 3, 5, 3, 5, 6, 3, 6, 5, 7, 2, 1, 3, 3, 9, 2, 4, 4, 3,\n",
       "       5, 1, 2, 3, 4, 4, 2, 4, 5, 1, 3, 6, 4, 3, 4, 5, 7, 4, 5, 3, 5, 2,\n",
       "       4, 2, 5, 6, 6, 5, 5, 5, 5, 2, 4, 3, 3, 3, 1, 4, 6, 6, 6, 5, 3, 3,\n",
       "       7, 6, 5, 4, 5, 2, 3, 4, 3, 4, 5, 5, 2, 5, 4, 7, 6, 6, 2, 6, 5, 3,\n",
       "       6, 5, 3, 4, 8, 2, 5, 5, 2, 7, 5, 3, 5, 2, 6, 4, 4, 3, 2, 6, 5, 3,\n",
       "       5, 6, 2, 5, 5, 6, 4, 4, 3, 2, 6, 4, 4, 3, 3, 4, 5, 4, 5, 3, 3, 3,\n",
       "       3, 2, 3, 5, 3, 5, 4, 5, 6, 4, 3, 7, 7, 6, 2, 5, 2, 3, 3, 3, 5, 6,\n",
       "       4, 4, 5, 6, 3, 7, 0, 6, 5, 3, 4, 2, 3, 3, 1, 5, 5, 6, 4, 0, 4, 4,\n",
       "       4, 4, 5, 5, 1, 5, 6, 2, 5, 5, 6, 4, 5, 8, 3, 4, 4, 1, 6, 1, 5, 5,\n",
       "       2, 2, 4, 3, 6, 3, 3, 4, 3, 4])"
      ]
     },
     "execution_count": 18,
     "metadata": {},
     "output_type": "execute_result"
    }
   ],
   "source": [
    "sample_data"
   ]
  },
  {
   "cell_type": "code",
   "execution_count": 19,
   "metadata": {},
   "outputs": [
    {
     "data": {
      "image/png": "[encoded data removed]",
      "text/plain": [
       "<Figure size 432x288 with 1 Axes>"
      ]
     },
     "metadata": {
      "needs_background": "light"
     },
     "output_type": "display_data"
    }
   ],
   "source": [
    "plt.hist(sample_data, range = (0,10), bins = 4*l, weights = [1/size]*size)\n",
    "plt.title(\"Poisson distribution\")\n",
    "plt.show()"
   ]
  },
  {
   "cell_type": "markdown",
   "metadata": {},
   "source": [
    "# Homework"
   ]
  },
  {
   "cell_type": "markdown",
   "metadata": {},
   "source": [
    "# Negative binomial distribution"
   ]
  },
  {
   "cell_type": "code",
   "execution_count": 20,
   "metadata": {},
   "outputs": [],
   "source": [
    "def bernoulli_dist1(p, n):\n",
    "    \"\"\"\n",
    "    Docstring: function to get the bernoulli distribution for negative binomial\n",
    "    input: p is probability, n number of fail\n",
    "    output: return an array of only zeros\n",
    "    \"\"\"\n",
    "    sample = []\n",
    "    #loop til get the number of fail\n",
    "    while True:\n",
    "        sample.append(bernoulli(p))\n",
    "        #check if it get the fail requiered\n",
    "        if sum(sample) == n:\n",
    "            break\n",
    "            \n",
    "    #returning an array of only 0\n",
    "    return [x for x in sample if x == 0]"
   ]
  },
  {
   "cell_type": "code",
   "execution_count": 21,
   "metadata": {},
   "outputs": [],
   "source": [
    "def negative_binomial(n , p, size):\n",
    "    \"\"\"\n",
    "    Docstring: function to get the negative binomial\n",
    "    input: n number of fail, p is probability, size is the size of the ssample\n",
    "    output:an array that contains numbers that are the exits by each iteration of the for\n",
    "    \"\"\"\n",
    "    sample = []\n",
    "    for i in range(size):\n",
    "        sample.append(len(bernoulli_dist1(p, n)))\n",
    "        \n",
    "    return np.array(sample)"
   ]
  },
  {
   "cell_type": "code",
   "execution_count": 22,
   "metadata": {},
   "outputs": [
    {
     "data": {
      "text/plain": [
       "array([31, 43, 32, ..., 39, 28, 36])"
      ]
     },
     "execution_count": 22,
     "metadata": {},
     "output_type": "execute_result"
    }
   ],
   "source": [
    "p = .25\n",
    "n = 10\n",
    "size = 10000\n",
    "\n",
    "sample1 = negative_binomial(n,p ,size)\n",
    "sample1"
   ]
  },
  {
   "cell_type": "code",
   "execution_count": 23,
   "metadata": {},
   "outputs": [
    {
     "data": {
      "image/png": "[encoded data removed]",
      "text/plain": [
       "<Figure size 432x288 with 1 Axes>"
      ]
     },
     "metadata": {
      "needs_background": "light"
     },
     "output_type": "display_data"
    }
   ],
   "source": [
    "plt.hist(sample1, bins=20 )\n",
    "plt.title(\"Negative binomial distribution\")\n",
    "plt.show()"
   ]
  },
  {
   "cell_type": "markdown",
   "metadata": {},
   "source": [
    "# Geometric distribution "
   ]
  },
  {
   "cell_type": "code",
   "execution_count": 24,
   "metadata": {},
   "outputs": [],
   "source": [
    "def geometric(p , size = 100):\n",
    "    \"\"\"\n",
    "    Docstring: function to get the geometric binomial\n",
    "    input: p is probability, size is the size of the sample, there is not n because in the geometric\n",
    "    finish in the first exit \n",
    "    output: an array with the number of exits,0.\n",
    "    \"\"\"\n",
    "    #since its geometric n must be equal to 0, and actually is a negative binomial\n",
    "    n = 1\n",
    "    result = negative_binomial(n , p, size)\n",
    "    return result"
   ]
  },
  {
   "cell_type": "code",
   "execution_count": 25,
   "metadata": {},
   "outputs": [],
   "source": [
    "p = .35\n",
    "size = 100\n",
    "\n",
    "sample2 = geometric (p, size)"
   ]
  },
  {
   "cell_type": "code",
   "execution_count": 26,
   "metadata": {},
   "outputs": [
    {
     "data": {
      "image/png": "[encoded data removed]",
      "text/plain": [
       "<Figure size 432x288 with 1 Axes>"
      ]
     },
     "metadata": {
      "needs_background": "light"
     },
     "output_type": "display_data"
    }
   ],
   "source": [
    "plt.hist(sample2, bins = 30)\n",
    "plt.title(\"Geometric distribution\")\n",
    "plt.show()"
   ]
  },
  {
   "cell_type": "markdown",
   "metadata": {},
   "source": [
    "## Hypergeometric Distribution"
   ]
  },
  {
   "cell_type": "code",
   "execution_count": 27,
   "metadata": {},
   "outputs": [],
   "source": [
    "def hypergeometric(M,N, n=1,size=1):\n",
    "    \"\"\"\n",
    "    Docstring: function to get the hypergeometric binomial\n",
    "    input: M is the total number of objects, N is the number of special objects\n",
    "    output: an array that contains numbers that are the exits by each iteration of the for\n",
    "    \"\"\"\n",
    "    sample = [1]*M\n",
    "    sample = sample + [0]*(N-M)\n",
    "    result = []\n",
    "    for i in range(size):\n",
    "        random.shuffle(sample)\n",
    "        result.append(sum(sample[:n]))\n",
    "    return result"
   ]
  },
  {
   "cell_type": "code",
   "execution_count": 28,
   "metadata": {},
   "outputs": [],
   "source": [
    "M = 20\n",
    "N = 100\n",
    "size = 1000\n",
    "n = 20\n",
    "list1 = hypergeometric(M, N, n, size)"
   ]
  },
  {
   "cell_type": "code",
   "execution_count": 29,
   "metadata": {},
   "outputs": [
    {
     "data": {
      "image/png": "[encoded data removed]",
      "text/plain": [
       "<Figure size 432x288 with 1 Axes>"
      ]
     },
     "metadata": {
      "needs_background": "light"
     },
     "output_type": "display_data"
    }
   ],
   "source": [
    "plt.hist(list1, bins = n, color = 'yellow', weights =[1/size]*size)\n",
    "plt.title(\"Hypergeometric distribution\")\n",
    "plt.show()"
   ]
  },
  {
   "cell_type": "markdown",
   "metadata": {},
   "source": [
    "# Homework finished"
   ]
  },
  {
   "cell_type": "markdown",
   "metadata": {},
   "source": [
    "### combinatories"
   ]
  },
  {
   "cell_type": "code",
   "execution_count": 30,
   "metadata": {},
   "outputs": [],
   "source": [
    "def comb(n ,x):\n",
    "    \"\"\"\n",
    "    Docstring: function to get a combinatory\n",
    "    input: n objects for combainin, x ways of combaining\n",
    "    output: a combinatory\n",
    "    \"\"\"\n",
    "    #getting the numerator\n",
    "    numer = math.factorial(n)\n",
    "    #getting the denominator\n",
    "    denom = math.factorial(x)*math.factorial(n-x)\n",
    "    return int(numer / denom)"
   ]
  },
  {
   "cell_type": "code",
   "execution_count": 31,
   "metadata": {},
   "outputs": [],
   "source": [
    "def realhypergeo(N, M, n):\n",
    "    \"\"\"\n",
    "    Docstring:getts the real hyper geometric\n",
    "    input: N number of special objects, M total objects, n is the number of objects you are looking\n",
    "    output: an arrat with the number of appearings\n",
    "    \"\"\"\n",
    "    xmax = min(n,M)\n",
    "    xmin = max(0,n+M-N)\n",
    "    p_vals = []\n",
    "    for x in range(xmin,xmax+1):\n",
    "        p = comb(M,x)*comb(N-M, n-x)/comb(N,n)\n",
    "        p_vals.append(p)\n",
    "    return [list(range(xmin,xmax+1)),p_vals]"
   ]
  },
  {
   "cell_type": "code",
   "execution_count": 32,
   "metadata": {},
   "outputs": [],
   "source": [
    "realdata = realhypergeo(N,M,n)"
   ]
  },
  {
   "cell_type": "code",
   "execution_count": 33,
   "metadata": {},
   "outputs": [
    {
     "data": {
      "image/png": "[encoded data removed]",
      "text/plain": [
       "<Figure size 432x288 with 1 Axes>"
      ]
     },
     "metadata": {
      "needs_background": "light"
     },
     "output_type": "display_data"
    }
   ],
   "source": [
    "plt.hist(list1, bins = n, color = 'yellow', weights =[1/size]*size)\n",
    "plt.title(\"Hypergeometric distribution\")\n",
    "plt.xticks(range(n+1))\n",
    "plt.scatter(realdata[0], realdata[1], color = 'red', zorder = 3, s=128, marker='x')\n",
    "plt.vlines(realdata[0], 0,realdata[1], color = 'red')\n",
    "plt.show()"
   ]
  },
  {
   "cell_type": "markdown",
   "metadata": {},
   "source": [
    "## Fitting a binomial distribution: moments"
   ]
  },
  {
   "cell_type": "markdown",
   "metadata": {},
   "source": [
    "The first two moments of the binomial distributions are related to the mean and variance in the followung manner:\n",
    "\n",
    "$$\\mu_x = n \\cdot p$$\n",
    "$$\\sigma_x^2 = n \\cdot p \\cdot (1-p)$$\n",
    "\n",
    "If we want to fit a binomial distribution to a set of dara, we need to find a way to determine the characteristics values of the binomial distribution($n,$p) based in statistical measurable quantities (mean and variance). Therefore, we can use the expressions above to reach our goal\n",
    "$$\\mu_x = n \\cdot p \\rightarrow  n = \\mu_x / p$$\n",
    "$$\\sigma_x^2 = n \\cdot (1-p) \\rightarrow \\sigma_x^2 = (\\mu_x / p) \\cdot (1-p) \\rightarrow \\sigma_x^2 = \\mu_x \\cdot (1-p)$$\n",
    "$$\\therefore p = 1 - \\sigma_x^2 / \\mu_x $$\n",
    "\n",
    "$$n = \\mu_x / p \\rightarrow n = \\mu_x/(1-\\sigma_x^2 / \\mu_x) \\rightarrow n = \\mu_x/((\\mu_x - \\sigma_x^2)/\\mu_x)$$\n",
    "$$\\therefore n = n = \\mu_x^2 / (\\mu_x - \\sigma_x^2)$$\n",
    "\n",
    "whit this new two expressions, we can calculate the mean and standard deviation of our data and fit a binomial distribution to it."
   ]
  }
 ],
 "metadata": {
  "kernelspec": {
   "display_name": "Python 3",
   "language": "python",
   "name": "python3"
  },
  "language_info": {
   "codemirror_mode": {
    "name": "ipython",
    "version": 3
   },
   "file_extension": ".py",
   "mimetype": "text/x-python",
   "name": "python",
   "nbconvert_exporter": "python",
   "pygments_lexer": "ipython3",
   "version": "3.6.8"
  }
 },
 "nbformat": 4,
 "nbformat_minor": 4
}
