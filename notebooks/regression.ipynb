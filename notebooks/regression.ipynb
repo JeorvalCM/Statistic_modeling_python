{
 "cells": [
  {
   "cell_type": "code",
   "execution_count": 1,
   "metadata": {},
   "outputs": [],
   "source": [
    "import numpy as np\n",
    "import math "
   ]
  },
  {
   "cell_type": "code",
   "execution_count": 2,
   "metadata": {},
   "outputs": [],
   "source": [
    "min_cost = 1*10**6\n",
    "min_b0 = 0\n",
    "min_b1 = 0\n",
    "n = 2\n",
    "x = [1,2]\n",
    "y = [1,2]\n",
    "l = 5"
   ]
  },
  {
   "cell_type": "code",
   "execution_count": 10,
   "metadata": {},
   "outputs": [
    {
     "name": "stdout",
     "output_type": "stream",
     "text": [
      "2.9000000000000057 1.99\n"
     ]
    }
   ],
   "source": [
    "for b0 in np.arange(-3,3, 0.1):\n",
    "    for b1 in np.arange(0,2,.01):\n",
    "        cost = (b0*b0+b1*b1)*l\n",
    "        for i in range(n):\n",
    "            cost += np.power(y[i]-b0-b1*x[i],2)\n",
    "        if cost < min_cost:\n",
    "            min_cost = cost\n",
    "            min_b0 = b0\n",
    "            min_b1 = b1\n",
    "print(b0,b1)"
   ]
  },
  {
   "cell_type": "markdown",
   "metadata": {},
   "source": [
    "Gradiente desendiente"
   ]
  },
  {
   "cell_type": "code",
   "execution_count": null,
   "metadata": {},
   "outputs": [],
   "source": []
  }
 ],
 "metadata": {
  "kernelspec": {
   "display_name": "Python 3",
   "language": "python",
   "name": "python3"
  },
  "language_info": {
   "codemirror_mode": {
    "name": "ipython",
    "version": 3
   },
   "file_extension": ".py",
   "mimetype": "text/x-python",
   "name": "python",
   "nbconvert_exporter": "python",
   "pygments_lexer": "ipython3",
   "version": "3.6.8"
  }
 },
 "nbformat": 4,
 "nbformat_minor": 4
}
