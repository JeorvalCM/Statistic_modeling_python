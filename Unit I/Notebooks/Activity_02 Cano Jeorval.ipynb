{
 "cells": [
  {
   "cell_type": "markdown",
   "metadata": {},
   "source": [
    "## Problem 3 - Allocating locations (*8 points*)\n",
    "\n",
    "\n",
    "### Overview \n",
    "Following map shows the locations of the weather stations (as blue points) in Finland that are more than 70 years old [1].\n",
    "In this problem we are interested to find out whether the station network was equally distributed across Finland\n",
    "seventy years ago. We have divided Finland into four geographical zones (i.e. North West, North East, South West, South East)\n",
    "according the approximate center point of Finnish mainland located at `26.3, 64.5` (lon-lat in decimal degrees).\n",
    "\n",
    "![](img/FMI_stations_70_years_older.png)\n",
    "\n",
    "[1]: The locations and the age of weather stations were obtained from: http://en.ilmatieteenlaitos.fi/observation-stations\n",
    "\n",
    "Below, we have given you the coordinates of 34 weather stations.\n",
    "The location of a single station is determined with a pair of latitude and longitude coordinates.\n",
    "The coordinates of all the stations are separated into two lists (`lat` and `lon`) and the names of the stations are in `stations` list. From these lists, you would get e.g. the location of the first station by combining the latitude and longitude coordinates from coordinate lists, and the name of that station from `stations` list at index[0]:\n",
    "\n",
    "### Problem statement\n",
    "\n",
    "In this problem your job is to print the names of weather stations located in different zones. You should also report the share of weather stations that allocated to each zone that could be used to evaluate if certain zone was over/under-represented seventy years ago.\n",
    "\n",
    "To solve this problem, you should modify and fill in the missing parts in the code cells below.\n",
    "\n",
    "**Notice**: follow closely the instructions, e.g. using **exactly** the same variable names as mentioned in the instructions because your answers will be automatically graded, and the tests that grade your answers rely on following the same formatting as in the instructions. \n",
    "\n",
    "\n",
    "**Your score on this problem will be based on following criteria:**\n",
    "\n",
    " 1. Create four lists for geographical zones in Finland (i.e. `nort_west`, `north_east`, `south_west`, `south_east`)\n",
    " 2. Iterate over values and determine to which geographical zone the station belongs\n",
    "    1. Hint: You should create a loop that iterates `N` -number of times. Create a variable *`N`* that should contain the number of stations we have here.\n",
    "    2. You should use a conditional statement to find out if the latitude coordinate of a station is either North or South of the center point of Finland (`26.3, 64.5`) **AND** if the longitude location is West or East from that center point.\n",
    "    3. You should insert the name of the station into the correct geographical zone list (step 1)\n",
    " 3. Print out the names of stations at each geographical zone\n",
    " 4. Calculate and print the share of stations at each zone (the total number of stations equals to 100 %)"
   ]
  },
  {
   "cell_type": "markdown",
   "metadata": {},
   "source": [
    "- Create four empty lists for geographical zones in Finland, use **exactly** following variable names (**0.5 points**)\n",
    "   - `north_west`\n",
    "   - `north_east`\n",
    "   - `south_west`\n",
    "   - `south_east`"
   ]
  },
  {
   "cell_type": "code",
   "execution_count": 1,
   "metadata": {},
   "outputs": [],
   "source": [
    "#import of libraries\n",
    "import numpy as np\n",
    "import pandas as pd\n",
    "import matplotlib.pyplot as plt"
   ]
  },
  {
   "cell_type": "code",
   "execution_count": 2,
   "metadata": {},
   "outputs": [],
   "source": [
    "#save the information of the csv in a variable\n",
    "info = pd.read_csv('stations.csv', encoding = \"latin1\")\n",
    "#gets the numbers of rows, where ['Name'] is the key to get the values of that columns from the imported file\n",
    "N = len(info['Name'])"
   ]
  },
  {
   "cell_type": "markdown",
   "metadata": {},
   "source": [
    "**Step 1**: Count the number of stations and store that value in variable: *`N`* (*0.5 points*)"
   ]
  },
  {
   "cell_type": "code",
   "execution_count": 3,
   "metadata": {},
   "outputs": [
    {
     "name": "stdout",
     "output_type": "stream",
     "text": [
      "454\n"
     ]
    }
   ],
   "source": [
    "print(N)"
   ]
  },
  {
   "cell_type": "code",
   "execution_count": 4,
   "metadata": {},
   "outputs": [
    {
     "name": "stdout",
     "output_type": "stream",
     "text": [
      "In the data, there are 454 stations.\n"
     ]
    }
   ],
   "source": [
    "# How many stations do we have?\n",
    "print(\"In the data, there are\", N, \"stations.\")"
   ]
  },
  {
   "cell_type": "markdown",
   "metadata": {},
   "source": [
    "**Step 2**: Make a loop that iterates N number of times, and allocates stations to different geographical zones based on the coordinates."
   ]
  },
  {
   "cell_type": "code",
   "execution_count": 5,
   "metadata": {},
   "outputs": [],
   "source": [
    "#definition of the variables that are the center of the map\n",
    "center_lat = 64.5\n",
    "center_lon = 26.3"
   ]
  },
  {
   "cell_type": "code",
   "execution_count": 6,
   "metadata": {},
   "outputs": [],
   "source": [
    "\"\"\"\n",
    "Comprenhension lists where classifies into the four categories asked, where info['Name'] gets the names from the station\n",
    "after checks the condintional of that sation where info['Lat'][i] and info['Lon'][i] gets into the columns lan and lon to \n",
    "check in with category is.\n",
    "\"\"\"\n",
    "north_east = [info['Name'][i] for i in range(0,N) if info['Lat'][i] >= center_lat and info['Lon'][i] >= center_lon ]\n",
    "north_west = [info['Name'][i] for i in range(0,N) if info['Lat'][i] >= center_lat and info['Lon'][i] < center_lon ]\n",
    "south_east = [info['Name'][i] for i in range(0,N) if info['Lat'][i] < center_lat and info['Lon'][i] >= center_lon ]\n",
    "south_west = [info['Name'][i] for i in range(0,N) if info['Lat'][i] < center_lat and info['Lon'][i] < center_lon ]"
   ]
  },
  {
   "cell_type": "markdown",
   "metadata": {},
   "source": [
    "**Step 3:** In the following cells, you should print out the correct names for each geographical zone. (*1.5 points each - total: 6 points*)\n",
    "    \n",
    "   - We have given you the correct number of stations as a hint for each zone, so it is easier for you to know whether you have correct answer. "
   ]
  },
  {
   "cell_type": "code",
   "execution_count": 7,
   "metadata": {},
   "outputs": [
    {
     "name": "stdout",
     "output_type": "stream",
     "text": [
      "The names of the North-West stations are:\n",
      " ['Bay of Bothnia wavebuoy', 'Enontekiö airport', 'Enontekiö Kaaresuvanto', 'Enontekiö Kilpisjärvi', 'Enontekiö Kilpisjärvi Saana', 'Enontekiö Näkkälä', 'Hailuoto Keskikylä', 'Hailuoto Kujalannurkka', 'Hailuoto Marjaniemi', 'Inari Angeli Lintupuoliselkä', 'Kemi Ajos', 'Kemi Ajos', 'Kemi I lighthouse', 'Kemi Kemi-Tornio airport', 'Kittilä airport', 'Kittilä Alakylä', 'Kittilä Kenttärova', 'Kittilä Lompolonvuoma', 'Kittilä Matorova', 'Kittilä parish', 'Kittilä Pokka', 'Kittilä Pulju', 'Kolari Kattilamaa', 'Muonio Laukukero', 'Muonio parish', 'Muonio Sammaltunturi', 'Oulu airport', 'Oulu keskusta 2', 'Oulu Nokela', 'Oulu Oulunsalo Pellonpää', 'Oulu Pyykkösjärvi', 'Oulu Santapankki', 'Oulu Toppila', 'Oulu Vihreäsaari harbour', 'Pello parish', 'Raahe keskusta', 'Raahe Lapaluoto', 'Raahe Lapaluoto', 'Raahe Lapaluoto harbour', 'Raahe Merikatu', 'Raahe Nahkiainen', 'Rovaniemi airport', 'Rovaniemi airport AWOS', 'Rovaniemi Apukka', 'Rovaniemi railway station', 'Rovaniemi Vennivaara', 'Siikajoki Ruukki', 'Tornio Pudas', 'Tornio Torppi', 'Ylitornio Meltosjärvi']\n"
     ]
    }
   ],
   "source": [
    "# This test print should print out station names in North West\n",
    "# Hint: there should be 4 stations in this class\n",
    "print(\"The names of the North-West stations are:\\n\", north_west)"
   ]
  },
  {
   "cell_type": "code",
   "execution_count": 8,
   "metadata": {},
   "outputs": [
    {
     "name": "stdout",
     "output_type": "stream",
     "text": [
      "The names of the North-East stations are:\n",
      " ['Inari Ivalo airport', 'Inari Kaamanen', 'Inari Kirakkajärvi', 'Inari Nellim', 'Inari parish', 'Inari Raja-Jooseppi', 'Inari Raja-Jooseppi Kontiojärvi', 'Inari Saariselkä Kaunispää', 'Inari Saariselkä tourist centre', 'Inari Seitalaassa', 'Inari Väylä', 'Kemijärvi airfield', 'Kuusamo airport', 'Kuusamo Juuma', 'Kuusamo Kiutaköngäs', 'Kuusamo Ruka Talvijärvi', 'Kuusamo Rukatunturi', 'Kuusamo Teeriranta', 'Pelkosenniemi parish', 'Pelkosenniemi Pyhätunturi', 'Posio Raistakka', 'Pudasjärvi airfield', 'Pudasjärvi Jaurakkajärvi', 'Pudasjärvi Sarakylä', 'Puolanka Kotila', 'Puolanka Paljakka', 'Ranua airfield', 'Salla Kelloselkä', 'Salla Naruska', 'Salla parish', 'Salla Värriötunturi', 'Savukoski parish', 'Sodankylä Heikinheimo-masto', 'Sodankylä Lokka', 'Sodankylä Luosto', 'Sodankylä Tähtelä', 'Sodankylä Vuotso', 'Suomussalmi Näljänkä', 'Suomussalmi Pesiö', 'Taivalkoski Inkee', 'Taivalkoski parish', 'Utajärvi Korkiakangas', 'Utajärvi Särkijärvi', 'Utsjoki Kevo', 'Utsjoki Kevo Kevojärvi', 'Utsjoki Nuorgam', 'Vaala Pelso']\n"
     ]
    }
   ],
   "source": [
    "# This test print should print out station names in North Eest\n",
    "# Hint: there should be 2 stations in this class\n",
    "print(\"The names of the North-East stations are:\\n\", north_east)"
   ]
  },
  {
   "cell_type": "code",
   "execution_count": 9,
   "metadata": {},
   "outputs": [
    {
     "name": "stdout",
     "output_type": "stream",
     "text": [
      "The names of the South-West stations are:\n",
      " ['Alajärvi Möksy', 'Alavus Sulkavankylä', 'Asikkala Pulkkilanharju', 'Espoo Kivenlahti', 'Espoo Kytö', 'Espoo Leppävaara Läkkisepänkuja', 'Espoo Luukki', 'Espoo Länsiväylä Friisilä', 'Espoo Nuuksio', 'Espoo Tapiola', 'Föglö Degerby', 'Gulf of Finland wavebuoy', 'Haapavesi Mustikkamäki', 'Halsua Purola', 'Hammarland Märket', 'Hanko Längden', 'Hanko Pikku Kolalahti', 'Hanko Russarö', 'Hanko Tulliniemi', 'Hanko Tvärminne', 'Harjavalta Kaleva', 'Harjavalta Pirkkala', 'Hattula Lepaa', 'Heinola Asemantaus', 'Heinola Tiilitehtaankatu', 'Helsinki Eteläsatama', 'Helsinki Harmaja', 'Helsinki Kaisaniemi', 'Helsinki Kaivopuisto', 'Helsinki Kallio 2', 'Helsinki Kumpula', 'Helsinki lighthouse', 'Helsinki Länsisatama 4', 'Helsinki Malmi airfield', 'Helsinki Mannerheimintie', 'Helsinki Mechelininkatu', 'Helsinki Mäkelänkatu', 'Helsinki Pirkkola', 'Helsinki Suomenlinna wavebuoy', 'Helsinki Vartiokylä Huivipolku', 'Helsinki Vuosaari harbour', 'Helsinki Vuosaari Käärmeniementie', 'Hollola Kansankatu siirrettävä', 'Hollola Muovitie', 'Huittinen Sallila', 'Hyvinkää', 'Hyvinkää Hyvinkäänkylä', 'Hämeenlinna Katinen', 'Hämeenlinna Kotinen', 'Hämeenlinna Lammi Evo', 'Hämeenlinna Lammi Pappila', 'Hämeenlinna Niittykatu', 'Hämeenlinna Pirttikoski', 'Ikaalinen Hakumäki', 'Ikaalinen Vehuvarpee', 'Ilmajoki Seinäjoki airport', 'Inkoo Bågaskär', 'Isojoki Kärjenkoski', 'Jalasjärvi Hirvijärv', 'Jokioinen Ilmala', 'Jomala Jomalaby', 'Jomala Mariehamn airport', 'Joutsa Savenaho', 'Juupajoki Hyytiälä', 'Jyväskylä airport', 'Jyväskylä airport AWOS', 'Jyväskylä Hannikaisenkatu', 'Jyväskylä Lyseo 2', 'Jyväskylä Muuratjärvi', 'Jyväskylä Palokka 2', 'Jyväskylä Pupuhuhta', 'Jämsä Halli airport', 'Jämsä Halli Lentoasemantie', 'Jämsä Lääkäritalo', 'Jämsä Seppolantie', 'Järvenpää Helsingintie', 'Järvenpää Sorto', 'Kaarina Kaarina', 'Kaarina Yltöinen', 'Kalajoki Maakalla', 'Kalajoki Mehtäkylä', 'Kalajoki Pitkäsenkylä', 'Kalajoki Ulkokalla', 'Kankaanpää Niinisalo airfield', 'Karvia Alkkia', 'Kaskinen', 'Kaskinen Sälgrund', 'Kaskinen Ådskär', 'Kauhajoki Kuja-Kokko', 'Kauhava airfield', 'Kauniainen Kauniaistentie', 'Kaustinen Tastula', 'Kemiönsaari Kalvören', 'Kemiönsaari Kemiö', 'Kemiönsaari Vänö', 'Kerava', 'Kirkkonummi keskusta', 'Kirkkonummi Mäkiluoto', 'Kirkkonummi Veikkola', 'Kokemäki Rausenkulma', 'Kokemäki Tulkkila', 'Kokkola keskusta Pitkänsillankatu', 'Kokkola Tankar', 'Kokkola Ykspihlaja', 'Korsnäs Bredskäret', 'Kristiinankaupunki lighthouse', 'Kruunupyy Kokkola-Pietarsaari airport', 'Kumlinge parish', 'Kurikka Pyörni', 'Kustavi Isokari', 'Kökar Bogskär', 'Lahti Holma', 'Lahti Kisapuisto', 'Lahti Laune Pohjoinen Liipolankatu', 'Lahti Saimaankatu', 'Lahti Satulakatu', 'Lahti Sopenkorpi', 'Lahti Vesku 11', 'Lahti Yrittäjänkatu', 'Laitila Haukka', 'Lemland Nyhamn', 'Lohja Leppäkorpi', 'Lohja Nahkurintori 2', 'Lohja Porla', 'Luhanka Judinsalo', 'Luhanka Tammijärvi', 'Lumparland Långnäs harbour', 'Luoto Vikarholmen', 'Maalahti Storskäret', 'Maalahti Strömmingsbådan', 'Mariehamn West Harbour', 'Mariehamn Österleden', 'Merikarvia Tuorila', 'Multia Karhila', 'Multia Pirttiperä', 'Mustasaari Riimala', 'Mustasaari Valassaaret', 'Mäntsälä Hirvihaara', 'Mäntsälä Hirvihaara Kuntomajantie', 'Naantali keskusta Asematori', 'Nastola Rakokiventie siirrettävä', 'Nokia Tottijärvi', 'Northern Baltic Proper wavebuoy', 'Nurmijärvi Röykkä', 'Närpiö 2', 'Närpiö Alamarkku', 'Oripää Teinikivi', 'Parainen', 'Parainen Fagerholm', 'Parainen Parainen', 'Parainen Rumar', 'Parainen Utö', 'Petäjävesi Kintaus', 'Pietarsaari Bottenviksvägen', 'Pietarsaari Kallan', 'Pietarsaari Leppäluoto', 'Pirkkala Tampere-Pirkkala airport', 'Pori airport', 'Pori Kaijakari', 'Pori keskusta', 'Pori Mäntyluoto Kallo', 'Pori Paanakedonkatu', 'Pori Pastuskeri', 'Pori railway station', 'Pori Tahkoluoto harbour', 'Porvoo Emäsalo', 'Porvoo Emäsalo Vaarlahti', 'Porvoo Harabacka', 'Porvoo Kalbådagrund', 'Porvoo Kilpilahti harbour', 'Porvoo Mustijoki', 'Porvoo Nyby', 'Porvoo Svartbäck', 'Pyhäjärvi Hiidenniemi', 'Pyhäjärvi Ojakylä', 'Pöytyä Yläne', 'Raasepori Jussarö', 'Raisio Ihala', 'Raisio Kaanaa Sakunpiha', 'Rauma Kylmäpihlaja', 'Rauma Pyynpää', 'Rauma Sinisaari', 'Rauma Tarvonsaari Hallikatu', 'Rauma Ulko-Petäjäs', 'Salo Kiikala airfield', 'Salo Kärkkä', 'Sea of Bothnia wavebuoy', 'Seinäjoki Pelmaa', 'Seinäjoki Vapaudentie 6a', 'Sipoo Eestiluoto', 'Sipoo Itätoukki', 'Siuntio Sjundby', 'Somero Salkola', 'Sysmä Joutsjärvi', 'Tampere Epila 2', 'Tampere Härmälä', 'Tampere Kaleva', 'Tampere Linja-autoasema', 'Tampere Pirkankatu', 'Tampere Siilinkari', 'Tampere Tampella', 'Teuva Kauppilankylä', 'Toholampi Laitala', 'Toholampi Oravala', 'Turku airport', 'Turku Artukainen', 'Turku Kauppatori väliaikainen', 'Turku Rajakari', 'Turku Ruissalo Saaronniemi', 'Turku Ruissalo Saarontie', 'Uusikaupunki Itätulli', 'Uusikaupunki Vekara', 'Vaasa airport', 'Vaasa keskusta Vaasanpuistikko', 'Vaasa Klemettilä', 'Vaasa Vaskiluoto', 'Vaasa Vesitorni', 'Vantaa Helsinki-Vantaa airport', 'Vantaa Helsinki-Vantaa airport AWOS', 'Vantaa Hämeenlinnanväylä', 'Vantaa Itä-Hakkila', 'Vantaa Kaivoksela', 'Vantaa Lentoasema', 'Vantaa Rekola', 'Vantaa Rekola etelä', 'Vantaa Tikkurila Neilikkatie', 'Vantaa Tikkurila Talvikkitie', 'Vihti Hiiskula', 'Vihti Maasoja', 'Vihti Nummela', 'Viitasaari Haapaniemi', 'Viitasaari Kärnä', 'Vimpeli Lakeaharju', 'Virrat Äijänneva', 'Ylivieska airfield', 'Ylivieska Vähäkangas', 'Ähtäri Inha', 'Äänekoski Hiski', 'Äänekoski Kalaniemi']\n"
     ]
    }
   ],
   "source": [
    "# This test print should print out station names in South West\n",
    "# Hint: there should be 16 stations in this class\n",
    "print(\"The names of the South-West stations are:\\n\", south_west)"
   ]
  },
  {
   "cell_type": "code",
   "execution_count": 10,
   "metadata": {},
   "outputs": [
    {
     "name": "stdout",
     "output_type": "stream",
     "text": [
      "The names of the South-East stations are:\n",
      " ['Enonkoski Simanala', 'Hamina Meltti/siirrettävä', 'Hamina Pitäjänsaari', 'Heinävesi Palokki', 'Iitti Kausalan Paloasema', 'Ilomantsi Mekrijärvi', 'Ilomantsi Naarva', 'Ilomantsi Pötsönvaara', 'Imatra Mansikkala', 'Imatra Pelkola', 'Imatra Pelkolan tulliasema Raja', 'Imatra Rautionkylä', 'Imatra Teppanala', 'Joensuu Huhtilampi', 'Joensuu Koskikatu 1', 'Joensuu Linnunlahti', 'Joensuu Pyhäselkä', 'Joutsa Pärnämäki', 'Juuka Niemelä', 'Juva Partala', 'Kajaani airport', 'Kajaani Keskusta', 'Kajaani Paltaniemi', 'Kajaani Petäisenniska', 'Kangasniemi parish', 'Kitee Kesälahti', 'Kiuruvesi Korpijoki', 'Kotka Haapasaari', 'Kotka Kirjastotalo', 'Kotka Kuusenkari', 'Kotka Rankki', 'Kotka Rauhala', 'Kouvola Anjala', 'Kouvola Inkeroinen tehtaanmäen koulu', 'Kouvola Kaipiainen', 'Kouvola Kuusankoski Mäkikylä', 'Kouvola Kuusankoski Urheilukentäntie', 'Kouvola Utti airport', 'Kouvola Utti Lentoportintie', 'Kouvola Voikoski', 'Kuhmo Apaja', 'Kuhmo Kalliojoki', 'Kuopio Haminalahti', 'Kuopio Karttula', 'Kuopio Kasarmipuisto', 'Kuopio Maaherrankatu', 'Kuopio Maaninka', 'Kuopio Niirala', 'Kuopio Puijo', 'Kuopio Ritoniemi', 'Kuopio Rytky', 'Kuopio Savilahti', 'Kuopio Savilahti KYS', 'Kuopio Sorsasalo', 'Kuopio Tasavallankatu', 'Kuopio Vehmasmäki', 'Lapinlahti Lamminkäyrä', 'Lappeenranta airport', 'Lappeenranta Hiekkapakka', 'Lappeenranta Ihalainen', 'Lappeenranta Joutsenon keskusta', 'Lappeenranta keskusta 4', 'Lappeenranta Konnunsuo', 'Lappeenranta Lauritsala', 'Lappeenranta Lepola', 'Lappeenranta Pulp', 'Lappeenranta Pulpin K-lähikauppa', 'Lappeenranta Tirilä Pekkasenkatu', 'Lieksa Hietajärvi', 'Lieksa Koli', 'Lieksa Lampela', 'Liperi Joensuu airport', 'Liperi Tuiskavanluoto', 'Loviisa Orrengrund', 'Mikkeli airport', 'Mikkeli airport AWOS', 'Mikkeli Pitkähiekka', 'Mikkeli Porrassalmenkatu', 'Nurmes Mujejärvi', 'Outokumpu Viuruniemi', 'Parikkala Koitsanlahti', 'Pieksämäki Savontie', 'Pielavesi Venetmäki', 'Puumala parish', 'Pyhtää airfield', 'Rantasalmi Rukkasluoto', 'Rautavaara Ala-Luosta', 'Rautavaara Ylä-Luosta', 'Ristijärvi Mustavaara', 'Ruokolahti Kotaniemi', 'Rääkkylä parish', 'Savonlinna airport', 'Savonlinna Haapasalmi', 'Savonlinna Laukansaari', 'Savonlinna Olavinkatu', 'Savonlinna Punkaharju Laukansaari', 'Savonlinna Savonranta', 'Siikalatva Kestilä', 'Siilinjärvi Kuopio airport', 'Siilinjärvi Kuuslahti', 'Siilinjärvi Murtomäki', 'Sotkamo Kuolaniemi', 'Sulkava Halttula', 'Suonenjoki Iisvesi', 'Suonenjoki Sairaalakatu', 'Tohmajärvi Kemie', 'Valtimo parish', 'Varkaus kaupungintalo', 'Varkaus Kommila terveyskeskus', 'Varkaus Kosulanniemi', 'Varkaus Kosulanniemi Rantalankatu', 'Varkaus Psaari 2', 'Varkaus Pääterveysasema', 'Varkaus Taulumäki (toripaviljonki)', 'Vesanto Sonkari', 'Vieremä Kaarakkala', 'Virolahti Koivuniemi', 'Virolahti Koivuniemi Ääpälä']\n"
     ]
    }
   ],
   "source": [
    "# This test print should print out station names in South East\n",
    "# Hint: there should be 12 stations in this class\n",
    "print(\"The names of the South-East stations are:\\n\", south_east)"
   ]
  },
  {
   "cell_type": "markdown",
   "metadata": {},
   "source": [
    "**Step 4**: Print the share of stations at each geographical zone (in percentages)\n",
    "\n",
    " - Store the answers into variables:\n",
    "    - `north_west_share`\n",
    "    - `north_east_share`\n",
    "    - `south_west_share`\n",
    "    - `south_east_share`"
   ]
  },
  {
   "cell_type": "code",
   "execution_count": 19,
   "metadata": {},
   "outputs": [
    {
     "name": "stdout",
     "output_type": "stream",
     "text": [
      "The percentage of stations in the north west is 11.013215859030836\n",
      "The percentage of stations in the north east is 10.352422907488986\n",
      "The percentage of stations in the south west is 52.6431718061674\n",
      "The percentage of stations in the south east is 25.991189427312776\n"
     ]
    }
   ],
   "source": [
    "#gets the percentages of each category\n",
    "north_west_share = (len(north_west)/N) * 100\n",
    "north_east_share = (len(north_east)/N) * 100\n",
    "south_west_share = (len(south_west)/N) * 100 \n",
    "south_east_share = (len(south_east)/N) * 100\n",
    "#print the percentages\n",
    "print(\"The percentage of stations in the north west is {}\".format(north_west_share))\n",
    "print(\"The percentage of stations in the north east is {}\".format(north_east_share))\n",
    "print(\"The percentage of stations in the south west is {}\".format(south_west_share))\n",
    "print(\"The percentage of stations in the south east is {}\".format(south_east_share))"
   ]
  },
  {
   "cell_type": "code",
   "execution_count": 63,
   "metadata": {},
   "outputs": [
    {
     "data": {
      "text/plain": [
       "<matplotlib.legend.Legend at 0x26595007748>"
      ]
     },
     "execution_count": 63,
     "metadata": {},
     "output_type": "execute_result"
    },
    {
     "data": {
      "image/png": "[encoded data removed]",
      "text/plain": [
       "<Figure size 432x288 with 1 Axes>"
      ]
     },
     "metadata": {},
     "output_type": "display_data"
    }
   ],
   "source": [
    "#Gives the names for the labels\n",
    "simbología = [\"North east\", \"Norht west\", \"South east\", \"South west\"]\n",
    "#it is the list where the values of the porcentages are save\n",
    "partes = [north_east_share, north_west_share, south_east_share, south_west_share]\n",
    "#graphics the pie char\n",
    "plt.pie(partes, labels=simbología, autopct='%1.2f%%', shadow=True)\n",
    "#gives the title\n",
    "plt.title(\"Percentages of the geolocalization of the stations\", bbox={\"facecolor\":\"10\", \"pad\":10})\n",
    "plt.legend()"
   ]
  }
 ],
 "metadata": {
  "kernelspec": {
   "display_name": "Python 3",
   "language": "python",
   "name": "python3"
  },
  "language_info": {
   "codemirror_mode": {
    "name": "ipython",
    "version": 3
   },
   "file_extension": ".py",
   "mimetype": "text/x-python",
   "name": "python",
   "nbconvert_exporter": "python",
   "pygments_lexer": "ipython3",
   "version": "3.7.1"
  }
 },
 "nbformat": 4,
 "nbformat_minor": 2
}
