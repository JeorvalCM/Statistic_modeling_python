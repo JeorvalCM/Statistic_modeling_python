{
 "cells": [
  {
   "cell_type": "markdown",
   "metadata": {},
   "source": [
    "## Problem 2 - Classifying temperatures (**8 points**)\n",
    "\n",
    "### Overview\n",
    "\n",
    "This problem is meant to introduce you to a very commonly used and useful concept of data classification.\n",
    "In this problem your aim is to classify daily temperatures stored in `temperatures` list into four different classes:\n",
    "\n",
    "  1. **Cold** ==> temperatures below -2 degrees (Celsius)\n",
    "  2. **Slippery** ==> temperatures warmer or equal to -2 degrees and up to +2 degrees (Celsius)\n",
    "  3. **Comfortable** ==> temperatures warmer or equal to +2 degrees and up to +15 degrees (Celsius)\n",
    "  4. **Warm** ==> temperatures warmer or equal to +15 degrees (Celsius)\n",
    "\n",
    "To solve this problem, you should modify and fill in the missing parts in the following cells.\n",
    "In total, there are three tasks that you should solve according the directions.\n",
    "\n",
    "**Notice**: follow closely the instructions, e.g. using **exactly** the same variable names as mentioned in the instructions because your answers will be automatically graded, and the tests that grade your answers rely on following the same formatting as in the instructions. \n",
    "\n",
    "**Your score on this problem will be based on following criteria:**\n",
    "\n",
    " - Using for loop to iterate over the temperature values\n",
    " - Using conditional statements to find out if a value is within certain value range\n",
    " - Printing information for the user\n",
    " - Including comments that explain what most lines in the code do"
   ]
  },
  {
   "cell_type": "markdown",
   "metadata": {},
   "source": [
    "### Data"
   ]
  },
  {
   "cell_type": "code",
   "execution_count": 1,
   "metadata": {},
   "outputs": [],
   "source": [
    "# A list of night-time, day-time and evening temperatures for April 2013 measured in Helsinki Malmi Airport. \n",
    "# The list contains 90 values since there are 3 values for each day (April has 30 days).\n",
    "# The first value of a single day represents night, the second one day-time, and the third one evening temperature.\n",
    "\n",
    "temperatures = [-5.4, 1.0, -1.3, -4.8, 3.9, 0.1, -4.4, 4.0, -2.2, -3.9, 4.4,\n",
    "                -2.5, -4.6, 5.1, 2.1, -2.4, 1.9, -3.3, -4.8, 1.0, -0.8, -2.8,\n",
    "                -0.1, -4.7, -5.6, 2.6, -2.7, -4.6, 3.4, -0.4, -0.9, 3.1, 2.4,\n",
    "                1.6, 4.2, 3.5, 2.6, 3.1, 2.2, 1.8, 3.3, 1.6, 1.5, 4.7, 4.0,\n",
    "                3.6, 4.9, 4.8, 5.3, 5.6, 4.1, 3.7, 7.6, 6.9, 5.1, 6.4, 3.8,\n",
    "                4.0, 8.6, 4.1, 1.4, 8.9, 3.0, 1.6, 8.5, 4.7, 6.6, 8.1, 4.5,\n",
    "                4.8, 11.3, 4.7, 5.2, 11.5, 6.2, 2.9, 4.3, 2.8, 2.8, 6.3, 2.6,\n",
    "                -0.0, 7.3, 3.4, 4.7, 9.3, 6.4, 5.4, 7.6, 5.2]"
   ]
  },
  {
   "cell_type": "markdown",
   "metadata": {},
   "source": [
    "1: Create four empty lists for different temperature classes, i.e.:\n",
    "\n",
    "  - `cold`\n",
    "  - `slippery`\n",
    "  - `comfortable`\n",
    "  - `warm`\n",
    "  \n",
    "Be careful to use **exactly** these names for your lists."
   ]
  },
  {
   "cell_type": "markdown",
   "metadata": {},
   "source": [
    "2: Iterate over temperatures and add temperatures to different temperature classes as defined below:\n",
    "  - **Cold** ==> temperatures below -2 degrees (Celsius)\n",
    "  - **Slippery** ==> temperatures warmer or equal to -2 degrees and up to +2 degrees (Celsius)\n",
    "  - **Comfortable** ==> temperatures warmer of equal to +2 degrees and up to +15 degrees (Celsius)\n",
    "  - **Warm** ==> temperatures above or equal to +15 degrees (Celsius)"
   ]
  },
  {
   "cell_type": "code",
   "execution_count": 2,
   "metadata": {},
   "outputs": [],
   "source": [
    "#comprenhension list that gets the temperature classes\n",
    "#gets the cold by checking if the values es less than -2 \n",
    "cold = [x for x in temperatures if x < -2]\n",
    "#gets the sliperry by checking if the values is between -2 and 2\n",
    "slippery = [x for x in temperatures if x >= -2 and x <2]\n",
    "#gets the comfortable by checking if the values are betwwen 2 and 15\n",
    "comfortable = [x for x in temperatures if x >= 2 and x<15]\n",
    "#gets war by checking if the values are greater or equal than 15\n",
    "warm = [x for x in temperatures if x >= 15]"
   ]
  },
  {
   "cell_type": "markdown",
   "metadata": {},
   "source": [
    "3: Questions - print the answers\n",
    "\n",
    "- How many times was it slippery during the study period?"
   ]
  },
  {
   "cell_type": "code",
   "execution_count": 3,
   "metadata": {},
   "outputs": [],
   "source": [
    "# Edit the variable to find correct answer\n",
    "slippery_times = len(slippery)"
   ]
  },
  {
   "cell_type": "code",
   "execution_count": 4,
   "metadata": {},
   "outputs": [
    {
     "name": "stdout",
     "output_type": "stream",
     "text": [
      "In April 2013 it was slippery 16 times.\n"
     ]
    }
   ],
   "source": [
    "# Print the answer\n",
    "print(\"In April 2013 it was slippery\", slippery_times, \"times.\")"
   ]
  },
  {
   "cell_type": "markdown",
   "metadata": {},
   "source": [
    "\n",
    "- How many times was it warm during the study period?"
   ]
  },
  {
   "cell_type": "code",
   "execution_count": 5,
   "metadata": {},
   "outputs": [],
   "source": [
    "# Edit the variable to find correct answer\n",
    "warm_times = len(warm)"
   ]
  },
  {
   "cell_type": "code",
   "execution_count": 6,
   "metadata": {},
   "outputs": [
    {
     "name": "stdout",
     "output_type": "stream",
     "text": [
      "In April 2013 it was warm 0 times.\n"
     ]
    }
   ],
   "source": [
    "# Print the answer\n",
    "print(\"In April 2013 it was warm\", warm_times, \"times.\")\n"
   ]
  },
  {
   "cell_type": "markdown",
   "metadata": {},
   "source": [
    "- How many times was it cold during the study period?"
   ]
  },
  {
   "cell_type": "code",
   "execution_count": 7,
   "metadata": {},
   "outputs": [],
   "source": [
    "# Edit the variable to find correct answer\n",
    "cold_times = len(cold)\n"
   ]
  },
  {
   "cell_type": "code",
   "execution_count": 8,
   "metadata": {},
   "outputs": [
    {
     "name": "stdout",
     "output_type": "stream",
     "text": [
      "In April 2013 it was cold 15 times.\n"
     ]
    }
   ],
   "source": [
    "# Print the answer\n",
    "print(\"In April 2013 it was cold\", cold_times, \"times.\")"
   ]
  }
 ],
 "metadata": {
  "kernelspec": {
   "display_name": "Python 3",
   "language": "python",
   "name": "python3"
  },
  "language_info": {
   "codemirror_mode": {
    "name": "ipython",
    "version": 3
   },
   "file_extension": ".py",
   "mimetype": "text/x-python",
   "name": "python",
   "nbconvert_exporter": "python",
   "pygments_lexer": "ipython3",
   "version": "3.7.1"
  }
 },
 "nbformat": 4,
 "nbformat_minor": 4
}
